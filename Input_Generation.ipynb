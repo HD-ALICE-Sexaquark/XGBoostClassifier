{
 "cells": [
  {
   "cell_type": "code",
   "execution_count": 1,
   "id": "a5239a32",
   "metadata": {},
   "outputs": [
    {
     "name": "stdout",
     "output_type": "stream",
     "text": [
      "CPU times: user 1.08 s, sys: 4.9 s, total: 5.98 s\n",
      "Wall time: 1.96 s\n"
     ]
    }
   ],
   "source": [
    "%%time \n",
    "import random\n",
    "import uproot\n",
    "import numpy as np"
   ]
  },
  {
   "cell_type": "code",
   "execution_count": 2,
   "id": "49846e44",
   "metadata": {},
   "outputs": [
    {
     "name": "stdout",
     "output_type": "stream",
     "text": [
      "Possible Keys:\n",
      "['RunNumber', 'DirNumber', 'Event', 'Idx_V0A', 'Idx_V0B', 'E', 'Px', 'Py', 'Pz', 'M', 'X', 'Y', 'Z', 'DCA', 'isSignal', 'V0A_Idx_Pos', 'V0A_Idx_Neg', 'V0A_Px', 'V0A_Py', 'V0A_Pz', 'V0A_X', 'V0A_Y', 'V0A_Z', 'V0A_Pos_Px', 'V0A_Pos_Py', 'V0A_Pos_Pz', 'V0A_Neg_Px', 'V0A_Neg_Py', 'V0A_Neg_Pz', 'V0A_isSignal', 'V0A_E_asK0', 'V0A_E_asAL', 'V0A_couldBeK0', 'V0A_couldBeAL', 'V0A_Chi2', 'V0A_DCA_Daughters', 'V0A_IP_wrtPV', 'V0A_CPA_wrtPV', 'V0A_ArmAlpha', 'V0A_ArmPt', 'V0A_DecayLength', 'V0A_Pos_isDuplicate', 'V0A_Neg_isDuplicate', 'V0A_Pos_Rec_Px', 'V0A_Pos_Rec_Py', 'V0A_Pos_Rec_Pz', 'V0A_Neg_Rec_Px', 'V0A_Neg_Rec_Py', 'V0A_Neg_Rec_Pz', 'V0A_Pos_NSigmaPion', 'V0A_Pos_NSigmaProton', 'V0A_Neg_NSigmaPion', 'V0A_Neg_NSigmaProton', 'V0A_Mother_PID', 'V0A_PID', 'V0A_Pos_PID', 'V0A_Neg_PID', 'V0B_Idx_Pos', 'V0B_Idx_Neg', 'V0B_Px', 'V0B_Py', 'V0B_Pz', 'V0B_X', 'V0B_Y', 'V0B_Z', 'V0B_Pos_Px', 'V0B_Pos_Py', 'V0B_Pos_Pz', 'V0B_Neg_Px', 'V0B_Neg_Py', 'V0B_Neg_Pz', 'V0B_isSignal', 'V0B_E_asK0', 'V0B_E_asAL', 'V0B_couldBeK0', 'V0B_couldBeAL', 'V0B_Chi2', 'V0B_DCA_Daughters', 'V0B_IP_wrtPV', 'V0B_CPA_wrtPV', 'V0B_ArmAlpha', 'V0B_ArmPt', 'V0B_DecayLength', 'V0B_Pos_isDuplicate', 'V0B_Neg_isDuplicate', 'V0B_Pos_Rec_Px', 'V0B_Pos_Rec_Py', 'V0B_Pos_Rec_Pz', 'V0B_Neg_Rec_Px', 'V0B_Neg_Rec_Py', 'V0B_Neg_Rec_Pz', 'V0B_Pos_NSigmaPion', 'V0B_Pos_NSigmaProton', 'V0B_Neg_NSigmaPion', 'V0B_Neg_NSigmaProton', 'V0B_Mother_PID', 'V0B_PID', 'V0B_Pos_PID', 'V0B_Neg_PID']\n"
     ]
    }
   ],
   "source": [
    "#Print all possible Keys\n",
    "#Thats the Input Data\n",
    "\n",
    "#List with directions to data files\n",
    "Data_List = 'Data/Sexa_CustomV0.list'\n",
    "\n",
    "with open(Data_List) as f:\n",
    "    input_data = f.read().splitlines()\n",
    "\n",
    "    with uproot.open(input_data[0]) as file:\n",
    "        print(\"Possible Keys:\")\n",
    "        print(file['Sexaquarks'].keys())\n"
   ]
  },
  {
   "cell_type": "code",
   "execution_count": 3,
   "id": "7b4a4e9c",
   "metadata": {},
   "outputs": [],
   "source": [
    "#This function creates a list of keys, where V0A keys are switched with V0B keys\n",
    "#It is used to switch V0A with V0B\n",
    "def switch_keys(keys):\n",
    "    switched_keys = []\n",
    "    for key in keys:\n",
    "        if \"V0A\" in key:\n",
    "            switched_key = key.replace(\"V0A\",\"V0B\")\n",
    "        else:\n",
    "            switched_key = key.replace(\"V0B\",\"V0A\")\n",
    "        \n",
    "        switched_keys.append(switched_key)\n",
    "    return switched_keys\n",
    "\n",
    "#Function to read in the files, based on  and give out the data variables and their keys\n",
    "#corresponding to given keys in a numpy array\n",
    "#input: file directions, bool to randomize V0s to be either V0A and V0B for the whole file, list of keys\n",
    "def read_in_files(files, randomizeAB,keys):\n",
    "    keys_switcheroo = switch_keys(keys) #create switched key list for switching A and B\n",
    "\n",
    "    data = [[] for i in range((len(keys)+1))] #empty 2D list for the data (+1 for candidate number not in the given keys) \n",
    "    for filename in files:\n",
    "        try:\n",
    "            with uproot.open(filename) as file:\n",
    "                #calculate the candidate number\n",
    "                Run_nbr = file['Sexaquarks']['RunNumber'].array()\n",
    "                Dir_nbr = file['Sexaquarks']['DirNumber'].array()\n",
    "                Dir_nbr = int(filename[-6])\n",
    "                Event_nbr = file['Sexaquarks']['Event'].array()\n",
    "                Idx_V0A = file['Sexaquarks']['Idx_V0A'].array()\n",
    "                Idx_V0B = file['Sexaquarks']['Idx_V0B'].array()\n",
    "                Candidate_nbr_file = Idx_V0B + 1000*Idx_V0A + 1000000*Event_nbr+1000000000*Dir_nbr +10000000000*Run_nbr           \n",
    "                \n",
    "                #append to data\n",
    "                data[0].append(Candidate_nbr_file)\n",
    "                \n",
    "                #if randomizer is on and in 50% of the cases switch A and B\n",
    "                if(randomizeAB & (random.random()>=0.5)):\n",
    "                    for i,key in enumerate(keys_switcheroo):\n",
    "                        data[i+1].append(file['Sexaquarks'][key].array())\n",
    "                #else append variables is keys order\n",
    "                else:\n",
    "                    for i,key in enumerate(keys):\n",
    "                        data[i+1].append(file['Sexaquarks'][key].array())\n",
    "        except:\n",
    "            print(\"File \",filename,\" not found\")\n",
    "    #result 3D list of variables containing 2D list of lists for each file\n",
    "    #numpy concatenate all lists for files to get 2D numpy array of variables  \n",
    "    for i in range(len(data)):\n",
    "        data[i] = np.concatenate(data[i])\n",
    "    #insert the key cand_nbr for the candidate numbers inserted in the data\n",
    "    keys.insert(0,\"Candidate_nbr\")\n",
    "    \n",
    "    return  data,keys\n",
    "\n",
    "\n",
    "def reshape_to_input(arrays):\n",
    "    arrays_copy = arrays*1\n",
    "    for i,array in enumerate(arrays):\n",
    "        arrays_copy[i] = np.array([array]).T\n",
    "       \n",
    "    return arrays_copy"
   ]
  },
  {
   "cell_type": "code",
   "execution_count": 4,
   "id": "4caaba35",
   "metadata": {},
   "outputs": [
    {
     "name": "stdout",
     "output_type": "stream",
     "text": [
      "CPU times: user 1min 23s, sys: 1.3 s, total: 1min 24s\n",
      "Wall time: 1min 46s\n"
     ]
    }
   ],
   "source": [
    "%%time\n",
    "input_data = 0\n",
    "\n",
    "with open('Data/Sexa_CustomV0.list') as f:\n",
    "    input_data = f.read().splitlines()\n",
    "\n",
    "randAB =True\n",
    "\n",
    "#All keys one wants in their input Data excluding CandidateNBR, which gets computed on the fly. \n",
    "#Manually assigned!\n",
    "keys = [\"V0A_isSignal\",\"V0B_isSignal\",\"DCA\",\"V0A_Pos_NSigmaPion\", \"V0A_Pos_NSigmaProton\", \"V0A_Neg_NSigmaPion\", \"V0A_Neg_NSigmaProton\",\"V0B_Pos_NSigmaPion\", \"V0B_Pos_NSigmaProton\", \"V0B_Neg_NSigmaPion\", \"V0B_Neg_NSigmaProton\",\n",
    "        \"V0A_ArmAlpha\", \"V0A_ArmPt\", \"V0B_ArmAlpha\", \"V0B_ArmPt\", \"V0A_X\", \"V0A_Y\", \"V0A_Z\", \"V0B_X\", \"V0B_Y\", \"V0B_Z\", \"X\", \"Y\", \"Z\",\n",
    "        \"V0A_Px\", \"V0A_Py\", \"V0A_Pz\", \"V0B_Px\", \"V0B_Py\", \"V0B_Pz\", \"Px\", \"Py\", \"Pz\", \n",
    "        'V0A_Pos_Px', 'V0A_Pos_Py', 'V0A_Pos_Pz', 'V0A_Neg_Px', 'V0A_Neg_Py', 'V0A_Neg_Pz', 'V0B_Pos_Px', 'V0B_Pos_Py', 'V0B_Pos_Pz', 'V0B_Neg_Px', 'V0B_Neg_Py', 'V0B_Neg_Pz',\n",
    "        \"V0A_Idx_Pos\", \"V0A_Idx_Neg\", \"V0B_Idx_Pos\", \"V0B_Idx_Neg\", \"V0A_Mother_PID\", \"V0A_PID\", \"V0A_Pos_PID\", \"V0A_Neg_PID\", \"V0B_Mother_PID\", \"V0B_PID\", \"V0B_Pos_PID\", \"V0B_Neg_PID\",\"M\"]\n",
    "\n",
    "data,key_list = list(read_in_files(input_data,randAB,keys))\n"
   ]
  },
  {
   "cell_type": "code",
   "execution_count": 5,
   "id": "6ea8ece4",
   "metadata": {},
   "outputs": [
    {
     "name": "stdout",
     "output_type": "stream",
     "text": [
      "Initial Number of parameters 59\n",
      "Final Number of parameters 71\n",
      "Total candidates:  3639689\n",
      "CPU times: user 3.59 s, sys: 4.59 s, total: 8.18 s\n",
      "Wall time: 8.28 s\n"
     ]
    }
   ],
   "source": [
    "%%time\n",
    "#This function expands the input data by user generated  variables\n",
    "#expanded variables are:\n",
    "#\"V0A_Dist\",V0B_Dist\",\"Dist_V0A_Vert\",\"Dist_V0B_Vert\",\"Dist_Vert\",\n",
    "#\"Opening_Angle\",\"V0A_Transv_Mom\",\"V0B_Transv_Mom\",\"V0A_Cos_Point_Angle\",\"V0B_Cos_Point_Angle\",\"Opening_Angle_A\",\"Opening_Angle_B\"\n",
    "def expand_input_data(data,key_list):\n",
    "    #get indices for position and momentum in data using key_list\n",
    "    idx_V0A_X = key_list.index(\"V0A_X\")\n",
    "    idx_V0B_X = key_list.index(\"V0B_X\")\n",
    "    idx_Vert_X = key_list.index(\"X\")\n",
    "    idx_V0A_Px = key_list.index(\"V0A_Px\")\n",
    "    idx_V0B_Px = key_list.index(\"V0B_Px\")\n",
    "\n",
    "    #define position and momentum vectors\n",
    "    pos_A = np.array(data[idx_V0A_X:idx_V0A_X+3]).T\n",
    "    pos_B = np.array(data[idx_V0B_X:idx_V0B_X+3]).T\n",
    "    pos_vert = np.array(data[idx_Vert_X:idx_Vert_X+3]).T\n",
    "\n",
    "    mom_A = np.array(data[idx_V0A_Px:idx_V0A_Px+3]).T\n",
    "    mom_B = np.array(data[idx_V0B_Px:idx_V0B_Px+3]).T\n",
    "\n",
    "    #calculate variables\n",
    "    dist_A = np.linalg.norm(pos_A,axis=1)\n",
    "    dist_B = np.linalg.norm(pos_B,axis=1)\n",
    "    dist_vert = np.linalg.norm(pos_vert,axis=1)\n",
    "\n",
    "    dist_A_vert = np.linalg.norm((pos_A-pos_vert),axis=1)\n",
    "    dist_B_vert = np.linalg.norm((pos_B-pos_vert),axis=1)\n",
    "\n",
    "    transv_dist_A = np.linalg.norm(pos_A[:,:2],axis=1)\n",
    "    transv_dist_B = np.linalg.norm(pos_B[:,:2],axis=1)\n",
    "\n",
    "    cos_point_angle_a = np.sum(pos_A*mom_A,axis=1) /(dist_A*np.linalg.norm(mom_A,axis=1))\n",
    "    cos_point_angle_b = np.sum(pos_B*mom_B,axis=1) /(dist_B*np.linalg.norm(mom_B,axis=1))\n",
    "\n",
    "    #insert in data and also insert in key list\n",
    "    data.insert(16,dist_A)\n",
    "    key_list.insert(16,\"V0A_Dist\")\n",
    "    data.insert(17,dist_B)\n",
    "    key_list.insert(17,\"V0B_Dist\")\n",
    "\n",
    "    data.insert(18,dist_vert)\n",
    "    key_list.insert(18,\"Dist_Vert\")\n",
    "    data.insert(19,dist_B_vert)\n",
    "    key_list.insert(19,\"Dist_V0B_Vert\")\n",
    "    data.insert(19,dist_A_vert)\n",
    "    key_list.insert(19,\"Dist_V0A_Vert\")\n",
    "\n",
    "    #calculate transvers momenta and insert in data\n",
    "    transv_mom_A = np.linalg.norm(mom_A[:,:2],axis=1)\n",
    "    transv_mom_B = np.linalg.norm(mom_B[:,:2],axis=1)\n",
    "    opening_angle = np.arccos(np.sum(mom_A*mom_B,axis=1)/(np.linalg.norm(mom_A,axis=1)*np.linalg.norm(mom_B,axis=1)))\n",
    "\n",
    "    data.insert(21,opening_angle)\n",
    "    data.insert(21,transv_mom_B)\n",
    "    data.insert(21,transv_mom_A)\n",
    "    key_list.insert(21,\"Opening_Angle\")\n",
    "    key_list.insert(21,\"V0B_Transv_Mom\")\n",
    "    key_list.insert(21,\"V0A_Transv_Mom\")\n",
    "\n",
    "    data.insert(24,cos_point_angle_b)\n",
    "    data.insert(24,cos_point_angle_a)\n",
    "    key_list.insert(24,\"V0B_Cos_Point_Angle\")\n",
    "    key_list.insert(24,\"V0A_Cos_Point_Angle\")\n",
    "\n",
    "\n",
    "    #calculate opening angles of V0 A and B nad insert in data\n",
    "    idx_A_pos_px = key_list.index(\"V0A_Pos_Px\")\n",
    "    idx_A_neg_px = key_list.index(\"V0A_Neg_Px\")\n",
    "    mom_A_pos = np.array(data[idx_A_pos_px:idx_A_pos_px+3]).T\n",
    "    mom_A_neg = np.array(data[idx_A_neg_px:idx_A_neg_px+3]).T\n",
    "\n",
    "    idx_B_pos_px = key_list.index(\"V0B_Pos_Px\")\n",
    "    idx_B_neg_px = key_list.index(\"V0B_Neg_Px\")\n",
    "    mom_B_pos = np.array(data[idx_B_pos_px:idx_B_pos_px+3]).T\n",
    "    mom_B_neg = np.array(data[idx_B_neg_px:idx_B_neg_px+3]).T\n",
    "\n",
    "    opening_angle_A = np.arccos(np.sum(mom_A_pos*mom_A_neg,axis=1)/(np.linalg.norm(mom_A_pos,axis=1)*np.linalg.norm(mom_A_neg,axis=1)))\n",
    "    opening_angle_B = np.arccos(np.sum(mom_B_pos*mom_B_neg,axis=1)/(np.linalg.norm(mom_B_pos,axis=1)*np.linalg.norm(mom_B_neg,axis=1)))\n",
    "\n",
    "    data.insert(idx_A_pos_px,opening_angle_B)\n",
    "    data.insert(idx_A_pos_px,opening_angle_A)\n",
    "    key_list.insert(idx_A_pos_px,\"Opening_Angle_B\")\n",
    "    key_list.insert(idx_A_pos_px,\"Opening_Angle_A\")\n",
    "    \n",
    "    return data,key_list\n",
    "\n",
    "print(\"Initial Number of parameters\",len(data))\n",
    "data,key_list = expand_input_data(data,key_list)\n",
    "print(\"Final Number of parameters\",len(data))\n",
    "print(\"Total candidates: \",len(data[0]))\n",
    "    \n",
    "#make a numpy array out of the list of arrays of data\n",
    "data = np.concatenate(reshape_to_input(data),axis=1)\n"
   ]
  },
  {
   "cell_type": "code",
   "execution_count": 6,
   "id": "af9f2cf6",
   "metadata": {},
   "outputs": [
    {
     "name": "stdout",
     "output_type": "stream",
     "text": [
      "{'Candidate_nbr': 0, 'V0A_isSignal': 1, 'V0B_isSignal': 2, 'DCA': 3, 'V0A_Pos_NSigmaPion': 4, 'V0A_Pos_NSigmaProton': 5, 'V0A_Neg_NSigmaPion': 6, 'V0A_Neg_NSigmaProton': 7, 'V0B_Pos_NSigmaPion': 8, 'V0B_Pos_NSigmaProton': 9, 'V0B_Neg_NSigmaPion': 10, 'V0B_Neg_NSigmaProton': 11, 'V0A_ArmAlpha': 12, 'V0A_ArmPt': 13, 'V0B_ArmAlpha': 14, 'V0B_ArmPt': 15, 'V0A_Dist': 16, 'V0B_Dist': 17, 'Dist_Vert': 18, 'Dist_V0A_Vert': 19, 'Dist_V0B_Vert': 20, 'V0A_Transv_Mom': 21, 'V0B_Transv_Mom': 22, 'Opening_Angle': 23, 'V0A_Cos_Point_Angle': 24, 'V0B_Cos_Point_Angle': 25, 'V0A_X': 26, 'V0A_Y': 27, 'V0A_Z': 28, 'V0B_X': 29, 'V0B_Y': 30, 'V0B_Z': 31, 'X': 32, 'Y': 33, 'Z': 34, 'V0A_Px': 35, 'V0A_Py': 36, 'V0A_Pz': 37, 'V0B_Px': 38, 'V0B_Py': 39, 'V0B_Pz': 40, 'Px': 41, 'Py': 42, 'Pz': 43, 'Opening_Angle_A': 44, 'Opening_Angle_B': 45, 'V0A_Pos_Px': 46, 'V0A_Pos_Py': 47, 'V0A_Pos_Pz': 48, 'V0A_Neg_Px': 49, 'V0A_Neg_Py': 50, 'V0A_Neg_Pz': 51, 'V0B_Pos_Px': 52, 'V0B_Pos_Py': 53, 'V0B_Pos_Pz': 54, 'V0B_Neg_Px': 55, 'V0B_Neg_Py': 56, 'V0B_Neg_Pz': 57, 'V0A_Idx_Pos': 58, 'V0A_Idx_Neg': 59, 'V0B_Idx_Pos': 60, 'V0B_Idx_Neg': 61, 'V0A_Mother_PID': 62, 'V0A_PID': 63, 'V0A_Pos_PID': 64, 'V0A_Neg_PID': 65, 'V0B_Mother_PID': 66, 'V0B_PID': 67, 'V0B_Pos_PID': 68, 'V0B_Neg_PID': 69, 'M': 70}\n"
     ]
    }
   ],
   "source": [
    "#For the user to see the keys and indices and the cuts\n",
    "key_to_index = {}\n",
    "for i,key in enumerate(key_list):\n",
    "    key_to_index[key] = i\n",
    "print(key_to_index)"
   ]
  },
  {
   "cell_type": "code",
   "execution_count": 7,
   "id": "7ccaa658",
   "metadata": {},
   "outputs": [
    {
     "name": "stdout",
     "output_type": "stream",
     "text": [
      "                            total,  signal, background\n",
      "Total:                     3639689 4802 3511785\n",
      "DistA and DistB >= 52cm:   3632183 4802 3504507\n",
      "DCA AB <= 1.1cm:           231929 4742 223623\n",
      "Dist Vert >= 40cm:         29702 4730 22828\n"
     ]
    }
   ],
   "source": [
    "def signal_cut(arrays):\n",
    "    return (arrays.T[1]*arrays.T[2]).astype(bool)\n",
    "\n",
    "def true_bkg_cut(arrays):\n",
    "    return ~(arrays.T[1]+arrays.T[2]).astype(bool)\n",
    "\n",
    "def make_cut_greater_than_key(data,key_to_index,key,value):\n",
    "    return data[data.T[key_to_index[key]] >= value]\n",
    "\n",
    "def make_cut_smaller_than_key(data,key_to_index,key,value):\n",
    "    return data[data.T[key_to_index[key]] <= value]\n",
    "\n",
    "total_candidates = len(data)\n",
    "total_signals    = len(data[signal_cut(data)])\n",
    "total_background = len(data[true_bkg_cut(data)])\n",
    "\n",
    "\n",
    "#make background reducing cuts\n",
    "\n",
    "cut_data_A  = make_cut_greater_than_key(data,key_to_index,\"V0A_Dist\",52)\n",
    "cut_data_AB = make_cut_greater_than_key(cut_data_A,key_to_index,\"V0B_Dist\",52)\n",
    "\n",
    "distA_distB_cut_candidates = len(cut_data_AB)\n",
    "distA_distB_cut_signals    = len(cut_data_AB[signal_cut(cut_data_AB)])\n",
    "distA_distB_cut_background = len(cut_data_AB[true_bkg_cut(cut_data_AB)])\n",
    "\n",
    "\n",
    "\n",
    "dca_cut_data = make_cut_smaller_than_key(cut_data_AB,key_to_index,\"DCA\", 1.1)\n",
    "\n",
    "\n",
    "dcaAB_cut_candidates = len(dca_cut_data)\n",
    "dcaAB_cut_signals    = len(dca_cut_data[signal_cut(dca_cut_data)])\n",
    "dcaAB_cut_background = len(dca_cut_data[true_bkg_cut(dca_cut_data)])\n",
    "\n",
    "dist_vert_cut_data = make_cut_greater_than_key(dca_cut_data,key_to_index,\"Dist_Vert\", 38)\n",
    "\n",
    "dist_vert_cut_candidates = len(dist_vert_cut_data)\n",
    "dist_vert_cut_signals    = len(dist_vert_cut_data[signal_cut(dist_vert_cut_data)])\n",
    "dist_vert_cut_background = len(dist_vert_cut_data[true_bkg_cut(dist_vert_cut_data)])\n",
    "\n",
    "\n",
    "print(\"                            total,  signal, background\")\n",
    "print(\"Total:                    \",total_candidates,total_signals,total_background)\n",
    "print(\"DistA and DistB >= 52cm:  \",distA_distB_cut_candidates,distA_distB_cut_signals,distA_distB_cut_background)\n",
    "print(\"DCA AB <= 1.1cm:          \",dcaAB_cut_candidates,dcaAB_cut_signals,dcaAB_cut_background)\n",
    "print(\"Dist Vert >= 40cm:        \",dist_vert_cut_candidates,dist_vert_cut_signals,dist_vert_cut_background)\n",
    "\n"
   ]
  },
  {
   "cell_type": "code",
   "execution_count": null,
   "id": "1a7efadd",
   "metadata": {},
   "outputs": [],
   "source": [
    "%%time\n",
    "#save data and key list\n",
    "np.save(\"DistCutData014.npy\",dist_vert_cut_data)\n",
    "np.save(\"Keys_DistCutData014.npy\",key_list)\n"
   ]
  },
  {
   "cell_type": "code",
   "execution_count": 8,
   "id": "0f6bb2a2",
   "metadata": {},
   "outputs": [],
   "source": [
    "data = dist_vert_cut_data\n",
    "#this function calculates the invariant mass based on assumptions, that the V0 is either a lambda or a kaon\n",
    "def calc_inv_mass_under_assumptions(data):\n",
    "\n",
    "    mass_proton = 0.938272\n",
    "    mass_pion   = 0.139570\n",
    "    \n",
    "    #momentum vector\n",
    "    idx_A_pos_px = key_list.index(\"V0A_Pos_Px\")\n",
    "    idx_A_neg_px = key_list.index(\"V0A_Neg_Px\")\n",
    "\n",
    "    idx_B_pos_px = key_list.index(\"V0B_Pos_Px\")\n",
    "    idx_B_neg_px = key_list.index(\"V0B_Neg_Px\")\n",
    "\n",
    "\n",
    "    V0A_Pos_Rec_P = data.T[idx_A_pos_px:idx_A_pos_px+3].T\n",
    "    V0A_Neg_Rec_P = data.T[idx_A_neg_px:idx_A_neg_px+3].T\n",
    "    V0B_Pos_Rec_P = data.T[idx_B_pos_px:idx_B_pos_px+3].T\n",
    "    V0B_Neg_Rec_P = data.T[idx_B_neg_px:idx_B_neg_px+3].T\n",
    "    \n",
    "    V0A_Pos_Rec_P_tot = np.linalg.norm(V0A_Pos_Rec_P,axis=1)\n",
    "    V0A_Neg_Rec_P_tot = np.linalg.norm(V0A_Neg_Rec_P,axis=1)\n",
    "    V0B_Pos_Rec_P_tot = np.linalg.norm(V0B_Pos_Rec_P,axis=1)\n",
    "    V0B_Neg_Rec_P_tot = np.linalg.norm(V0B_Neg_Rec_P,axis=1)\n",
    " \n",
    "    #momentum\n",
    "    V0A_Pos_Rec_P_tot = np.linalg.norm(V0A_Pos_Rec_P,axis=1)\n",
    "    V0A_Neg_Rec_P_tot = np.linalg.norm(V0A_Neg_Rec_P,axis=1)\n",
    "    V0B_Pos_Rec_P_tot = np.linalg.norm(V0B_Pos_Rec_P,axis=1)\n",
    "    V0B_Neg_Rec_P_tot = np.linalg.norm(V0B_Neg_Rec_P,axis=1) \n",
    "\n",
    "    #energy as pion or proton E^2 = m^2 + p^2\n",
    "    V0A_Pos_Rec_E_pion    = (mass_pion**2     + V0A_Pos_Rec_P_tot**2)**0.5\n",
    "    V0A_Neg_Rec_E_pion    = (mass_pion**2     + V0A_Neg_Rec_P_tot**2)**0.5\n",
    "    V0A_Neg_Rec_E_prot    = (mass_proton**2   + V0A_Neg_Rec_P_tot**2)**0.5\n",
    "\n",
    "    V0B_Pos_Rec_E_pion    = (mass_pion**2     + V0B_Pos_Rec_P_tot**2)**0.5\n",
    "    V0B_Neg_Rec_E_pion    = (mass_pion**2     + V0B_Neg_Rec_P_tot**2)**0.5\n",
    "    V0B_Neg_Rec_E_prot    = (mass_proton**2   + V0B_Neg_Rec_P_tot**2)**0.5\n",
    "\n",
    "    #4 momenta P=(E,px,py,pz)\n",
    "    V0A_Pos_Rec_4mom_pion = np.array((V0A_Pos_Rec_E_pion,V0A_Pos_Rec_P[:,0],V0A_Pos_Rec_P[:,1],V0A_Pos_Rec_P[:,2]))\n",
    "    V0A_Neg_Rec_4mom_pion = np.array((V0A_Neg_Rec_E_pion,V0A_Neg_Rec_P[:,0],V0A_Neg_Rec_P[:,1],V0A_Neg_Rec_P[:,2]))\n",
    "    V0A_Neg_Rec_4mom_prot = np.array((V0A_Neg_Rec_E_prot,V0A_Neg_Rec_P[:,0],V0A_Neg_Rec_P[:,1],V0A_Neg_Rec_P[:,2]))\n",
    "\n",
    "    V0B_Pos_Rec_4mom_pion = np.array((V0B_Pos_Rec_E_pion,V0B_Pos_Rec_P[:,0],V0B_Pos_Rec_P[:,1],V0B_Pos_Rec_P[:,2]))\n",
    "    V0B_Neg_Rec_4mom_pion = np.array((V0B_Neg_Rec_E_pion,V0B_Neg_Rec_P[:,0],V0B_Neg_Rec_P[:,1],V0B_Neg_Rec_P[:,2]))\n",
    "    V0B_Neg_Rec_4mom_prot = np.array((V0B_Neg_Rec_E_prot,V0B_Neg_Rec_P[:,0],V0B_Neg_Rec_P[:,1],V0B_Neg_Rec_P[:,2]))\n",
    "\n",
    "    #4 momenta lambda /K0\n",
    "    V0A_Rec_4mom_Lamb     = V0A_Pos_Rec_4mom_pion + V0A_Neg_Rec_4mom_prot\n",
    "    V0A_Rec_4mom_K0sh     = V0A_Pos_Rec_4mom_pion + V0A_Neg_Rec_4mom_pion\n",
    "    V0B_Rec_4mom_Lamb     = V0B_Pos_Rec_4mom_pion + V0B_Neg_Rec_4mom_prot\n",
    "    V0B_Rec_4mom_K0sh     = V0B_Pos_Rec_4mom_pion + V0B_Neg_Rec_4mom_pion\n",
    "\n",
    "    #invyarant mass squared: M^2 = E^2 - p^2\n",
    "    V0A_Rec_invM_Lamb_2   = V0A_Rec_4mom_Lamb[0]**2 - np.sum(V0A_Rec_4mom_Lamb[1:]**2,axis=0)\n",
    "    V0A_Rec_invM_K0sh_2   = V0A_Rec_4mom_K0sh[0]**2 - np.sum(V0A_Rec_4mom_K0sh[1:]**2,axis=0)\n",
    "    V0B_Rec_invM_Lamb_2   = V0B_Rec_4mom_Lamb[0]**2 - np.sum(V0B_Rec_4mom_Lamb[1:]**2,axis=0)\n",
    "    V0B_Rec_invM_K0sh_2   = V0B_Rec_4mom_K0sh[0]**2 - np.sum(V0B_Rec_4mom_K0sh[1:]**2,axis=0)\n",
    "    \n",
    "    return V0A_Rec_invM_Lamb_2,V0A_Rec_invM_K0sh_2,V0B_Rec_invM_Lamb_2,V0B_Rec_invM_K0sh_2\n",
    "\n",
    "V0A_Rec_invM_Lamb_2,V0A_Rec_invM_K0sh_2,V0B_Rec_invM_Lamb_2,V0B_Rec_invM_K0sh_2 = calc_inv_mass_under_assumptions(data)\n",
    "\n"
   ]
  },
  {
   "cell_type": "code",
   "execution_count": 9,
   "id": "83dc86e2",
   "metadata": {},
   "outputs": [],
   "source": [
    "#calculate a switch map to swap A and B \n",
    "key_list_switch=switch_keys(key_list)\n",
    "key_switch_map = [key_list_switch.index(keyy)for keyy in key_list ]\n",
    "\n",
    "#swap A and B if the reconstructed invariant mass of A under assumption Lambda is bigger than \n",
    "#inv mass B under assumption Lambda\n",
    "for i in range(len(data)):\n",
    "    if ((V0A_Rec_invM_Lamb_2[i]-V0B_Rec_invM_Lamb_2[i]) >0 ):\n",
    "        data[i] = data[i][key_switch_map]\n",
    "\n",
    "#calculate inv masses again        \n",
    "V0A_Rec_invM_Lamb_2,V0A_Rec_invM_K0sh_2,V0B_Rec_invM_Lamb_2,V0B_Rec_invM_K0sh_2 = calc_inv_mass_under_assumptions(data)\n",
    "    "
   ]
  },
  {
   "cell_type": "code",
   "execution_count": 10,
   "id": "9fc855f9",
   "metadata": {},
   "outputs": [
    {
     "name": "stdout",
     "output_type": "stream",
     "text": [
      "                            total,  signal, background\n",
      "Total:                      29702 4730 22828\n",
      "Inv M^2 A _Lambda <= 1.35:  14461 4661 8283\n",
      "Inv M^2 A _Lambda <= 0.35:  8786 4571 3370\n"
     ]
    }
   ],
   "source": [
    "#number total candidates\n",
    "total_candidates = len(data)\n",
    "total_signals    = len(data[signal_cut(data)])\n",
    "total_background = len(data[true_bkg_cut(data)])\n",
    "\n",
    "#cut on inv mass of A assumed as Lambda\n",
    "cut_data_A = data[V0A_Rec_invM_Lamb_2 <= 1.35]\n",
    "V0B_Rec_invM_K0sh_2_mask = V0B_Rec_invM_K0sh_2[V0A_Rec_invM_Lamb_2 <= 1.35]\n",
    "\n",
    "InvMA_cut_candidates = len(cut_data_A)\n",
    "InvMA_cut_signals    = len(cut_data_A[signal_cut(cut_data_A)])\n",
    "InvMA_cut_background = len(cut_data_A[true_bkg_cut(cut_data_A)])\n",
    "\n",
    "#cut on inv mass of B assumed as Kaon\n",
    "cut_data_both = cut_data_A[V0B_Rec_invM_K0sh_2_mask <= 0.35]\n",
    "V0B_Rec_invM_K0sh_2_mask = V0B_Rec_invM_K0sh_2_mask[V0B_Rec_invM_K0sh_2_mask <= 0.35]\n",
    "\n",
    "InvMAB_cut_candidates = len(cut_data_both)\n",
    "InvMAB_cut_signals    = len(cut_data_both[signal_cut(cut_data_both)])\n",
    "InvMAB_cut_background = len(cut_data_both[true_bkg_cut(cut_data_both)])\n",
    "\n",
    "\n",
    "print(\"                            total,  signal, background\")\n",
    "print(\"Total:                     \",total_candidates,total_signals,total_background)\n",
    "print(\"Inv M^2 A _Lambda <= 1.35: \",InvMA_cut_candidates,InvMA_cut_signals,InvMA_cut_background)\n",
    "print(\"Inv M^2 A _Lambda <= 0.35: \",InvMAB_cut_candidates,InvMAB_cut_signals,InvMAB_cut_background)\n",
    "\n"
   ]
  },
  {
   "cell_type": "code",
   "execution_count": 12,
   "id": "370d1bc6",
   "metadata": {},
   "outputs": [
    {
     "name": "stdout",
     "output_type": "stream",
     "text": [
      "{0: 'Candidate_nbr', 1: 'V0A_isSignal', 2: 'V0B_isSignal', 3: 'DCA', 4: 'V0A_Pos_NSigmaPion', 5: 'V0A_Pos_NSigmaProton', 6: 'V0A_Neg_NSigmaPion', 7: 'V0A_Neg_NSigmaProton', 8: 'V0B_Pos_NSigmaPion', 9: 'V0B_Pos_NSigmaProton', 10: 'V0B_Neg_NSigmaPion', 11: 'V0B_Neg_NSigmaProton', 12: 'V0A_ArmAlpha', 13: 'V0A_ArmPt', 14: 'V0B_ArmAlpha', 15: 'V0B_ArmPt', 16: 'V0A_Dist', 17: 'V0B_Dist', 18: 'Dist_Vert', 19: 'Dist_V0A_Vert', 20: 'Dist_V0B_Vert', 21: 'V0A_Transv_Mom', 22: 'V0B_Transv_Mom', 23: 'Opening_Angle', 24: 'V0A_Rec_invM_Lamb_2', 25: 'V0A_Rec_invM_K0sh_2', 26: 'V0B_Rec_invM_Lamb_2', 27: 'V0B_Rec_invM_K0sh_2', 28: 'V0A_Cos_Point_Angle', 29: 'V0B_Cos_Point_Angle', 30: 'V0A_X', 31: 'V0A_Y', 32: 'V0A_Z', 33: 'V0B_X', 34: 'V0B_Y', 35: 'V0B_Z', 36: 'X', 37: 'Y', 38: 'Z', 39: 'V0A_Px', 40: 'V0A_Py', 41: 'V0A_Pz', 42: 'V0B_Px', 43: 'V0B_Py', 44: 'V0B_Pz', 45: 'Px', 46: 'Py', 47: 'Pz', 48: 'Opening_Angle_A', 49: 'Opening_Angle_B', 50: 'V0A_Pos_Px', 51: 'V0A_Pos_Py', 52: 'V0A_Pos_Pz', 53: 'V0A_Neg_Px', 54: 'V0A_Neg_Py', 55: 'V0A_Neg_Pz', 56: 'V0B_Pos_Px', 57: 'V0B_Pos_Py', 58: 'V0B_Pos_Pz', 59: 'V0B_Neg_Px', 60: 'V0B_Neg_Py', 61: 'V0B_Neg_Pz', 62: 'V0A_Idx_Pos', 63: 'V0A_Idx_Neg', 64: 'V0B_Idx_Pos', 65: 'V0B_Idx_Neg', 66: 'V0A_Mother_PID', 67: 'V0A_PID', 68: 'V0A_Pos_PID', 69: 'V0A_Neg_PID', 70: 'V0B_Mother_PID', 71: 'V0B_PID', 72: 'V0B_Pos_PID', 73: 'V0B_Neg_PID', 74: 'M'}\n"
     ]
    }
   ],
   "source": [
    "V0A_Rec_invM_Lamb_2,V0A_Rec_invM_K0sh_2,V0B_Rec_invM_Lamb_2,V0B_Rec_invM_K0sh_2 = calc_inv_mass_under_assumptions(cut_data_both)\n",
    "\n",
    "#put inv_mass squared as variable into the dataset\n",
    "data3 = np.concatenate((cut_data_both.T[:24],[V0B_Rec_invM_K0sh_2],cut_data_both.T[24:]))\n",
    "data3 = np.concatenate((data3[:24],[V0B_Rec_invM_Lamb_2],data3[24:]))\n",
    "data3 = np.concatenate((data3[:24],[V0A_Rec_invM_K0sh_2],data3[24:]))\n",
    "data3 = np.concatenate((data3[:24],[V0A_Rec_invM_Lamb_2],data3[24:]))\n",
    "key_list.insert(24,\"V0B_Rec_invM_K0sh_2\")\n",
    "key_list.insert(24,\"V0B_Rec_invM_Lamb_2\")\n",
    "key_list.insert(24,\"V0A_Rec_invM_K0sh_2\")\n",
    "key_list.insert(24,\"V0A_Rec_invM_Lamb_2\")\n",
    "\n",
    "\n",
    "key_index_pair={}\n",
    "for i,key in enumerate(key_list):\n",
    "    key_index_pair[i]=key\n",
    "print(key_index_pair)"
   ]
  },
  {
   "cell_type": "code",
   "execution_count": 15,
   "id": "8ce626a4",
   "metadata": {},
   "outputs": [
    {
     "name": "stdout",
     "output_type": "stream",
     "text": [
      "CPU times: user 4.9 ms, sys: 4.72 ms, total: 9.63 ms\n",
      "Wall time: 1.44 s\n"
     ]
    }
   ],
   "source": [
    "%%time\n",
    "#save data and key list\n",
    "np.save(\"MassCutData016.npy\",data3.T)\n",
    "np.save(\"Keys_MassCutData016.npy\",key_list)"
   ]
  },
  {
   "cell_type": "code",
   "execution_count": null,
   "id": "ebea248c",
   "metadata": {},
   "outputs": [],
   "source": []
  }
 ],
 "metadata": {
  "kernelspec": {
   "display_name": "Python 3",
   "language": "python",
   "name": "python3"
  },
  "language_info": {
   "codemirror_mode": {
    "name": "ipython",
    "version": 3
   },
   "file_extension": ".py",
   "mimetype": "text/x-python",
   "name": "python",
   "nbconvert_exporter": "python",
   "pygments_lexer": "ipython3",
   "version": "3.8.10"
  }
 },
 "nbformat": 4,
 "nbformat_minor": 5
}

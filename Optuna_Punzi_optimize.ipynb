{
 "cells": [
  {
   "cell_type": "code",
   "execution_count": 1,
   "id": "89bf6480",
   "metadata": {},
   "outputs": [
    {
     "name": "stdout",
     "output_type": "stream",
     "text": [
      "CPU times: user 3.22 s, sys: 8.59 s, total: 11.8 s\n",
      "Wall time: 1.95 s\n"
     ]
    }
   ],
   "source": [
    "%%time \n",
    "import random\n",
    "import xgboost as xgb\n",
    "import numpy as np\n",
    "import pickle\n",
    "from matplotlib import pyplot as plt\n",
    "import traceback\n",
    "from sklearn import metrics\n",
    "from sklearn.model_selection import train_test_split\n",
    "from locale import normalize\n",
    "from matplotlib.pylab import rcParams\n",
    "import pandas as pd\n",
    "import optuna\n",
    "from optuna.trial import TrialState\n",
    "import kaleido\n",
    "import plotly\n"
   ]
  },
  {
   "cell_type": "code",
   "execution_count": 2,
   "id": "2ea9f24c",
   "metadata": {},
   "outputs": [
    {
     "name": "stdout",
     "output_type": "stream",
     "text": [
      "data contains the following variables with indices: \n",
      " {0: 'Candidate_nbr', 1: 'V0A_isSignal', 2: 'V0B_isSignal', 3: 'DCA', 4: 'V0A_Pos_NSigmaPion', 5: 'V0A_Pos_NSigmaProton', 6: 'V0A_Neg_NSigmaPion', 7: 'V0A_Neg_NSigmaProton', 8: 'V0B_Pos_NSigmaPion', 9: 'V0B_Pos_NSigmaProton', 10: 'V0B_Neg_NSigmaPion', 11: 'V0B_Neg_NSigmaProton', 12: 'V0A_ArmAlpha', 13: 'V0A_ArmPt', 14: 'V0B_ArmAlpha', 15: 'V0B_ArmPt', 16: 'V0A_Dist', 17: 'V0B_Dist', 18: 'Dist_Vert', 19: 'Dist_V0A_Vert', 20: 'Dist_V0B_Vert', 21: 'V0A_Transv_Mom', 22: 'V0B_Transv_Mom', 23: 'Opening_Angle', 24: 'V0A_Rec_invM_Lamb_2', 25: 'V0A_Rec_invM_K0sh_2', 26: 'V0B_Rec_invM_Lamb_2', 27: 'V0B_Rec_invM_K0sh_2', 28: 'V0A_Cos_Point_Angle', 29: 'V0B_Cos_Point_Angle', 30: 'V0A_X', 31: 'V0A_Y', 32: 'V0A_Z', 33: 'V0B_X', 34: 'V0B_Y', 35: 'V0B_Z', 36: 'X', 37: 'Y', 38: 'Z', 39: 'V0A_Px', 40: 'V0A_Py', 41: 'V0A_Pz', 42: 'V0B_Px', 43: 'V0B_Py', 44: 'V0B_Pz', 45: 'Px', 46: 'Py', 47: 'Pz', 48: 'Opening_Angle_A', 49: 'Opening_Angle_B', 50: 'V0A_Pos_Px', 51: 'V0A_Pos_Py', 52: 'V0A_Pos_Pz', 53: 'V0A_Neg_Px', 54: 'V0A_Neg_Py', 55: 'V0A_Neg_Pz', 56: 'V0B_Pos_Px', 57: 'V0B_Pos_Py', 58: 'V0B_Pos_Pz', 59: 'V0B_Neg_Px', 60: 'V0B_Neg_Py', 61: 'V0B_Neg_Pz', 62: 'V0A_Idx_Pos', 63: 'V0A_Idx_Neg', 64: 'V0B_Idx_Pos', 65: 'V0B_Idx_Neg', 66: 'V0A_Mother_PID', 67: 'V0A_PID', 68: 'V0A_Pos_PID', 69: 'V0A_Neg_PID', 70: 'V0B_Mother_PID', 71: 'V0B_PID', 72: 'V0B_Pos_PID', 73: 'V0B_Neg_PID', 74: 'M'}\n",
      "CPU times: user 1.6 ms, sys: 2.85 ms, total: 4.44 ms\n",
      "Wall time: 7.73 ms\n"
     ]
    }
   ],
   "source": [
    "%%time\n",
    "#load data\n",
    "data = np.load(\"MassCutData016.npy\").T\n",
    "key_list = np.load(\"Keys_MassCutData016.npy\").tolist()\n",
    "key_index_pair={}\n",
    "for i,key in enumerate(key_list):\n",
    "    key_index_pair[i]=key\n",
    "    \n",
    "print(\"data contains the following variables with indices: \\n\", key_index_pair)\n"
   ]
  },
  {
   "cell_type": "code",
   "execution_count": 3,
   "id": "f495affe",
   "metadata": {},
   "outputs": [
    {
     "name": "stdout",
     "output_type": "stream",
     "text": [
      "total candidates:  8786\n",
      "signal candidates:  4571\n",
      "true bckgrd candidates:  3370\n",
      "CPU times: user 464 µs, sys: 5.08 ms, total: 5.54 ms\n",
      "Wall time: 5.03 ms\n"
     ]
    }
   ],
   "source": [
    "%%time\n",
    "\n",
    "sig_cut_data = data[:,(data[1]>0.5) &(data[2]>0.5)]\n",
    "bck_cut_data = data[:,(data[1]<0.5) &(data[2]<0.5)]\n",
    "\n",
    "print(\"total candidates: \",len(data[0]))\n",
    "print(\"signal candidates: \",len(sig_cut_data[0]))\n",
    "print(\"true bckgrd candidates: \",len(bck_cut_data[0]))"
   ]
  },
  {
   "cell_type": "code",
   "execution_count": 4,
   "id": "7e7821e4",
   "metadata": {},
   "outputs": [],
   "source": [
    "def shuffle_data (data): \n",
    "    p = np.random.permutation(len(data.T))\n",
    "    cutted_data_perm = (data.T[p]).T \n",
    "\n",
    "\n",
    "    X = cutted_data_perm[3:28].T\n",
    "    y =(cutted_data_perm[1] * cutted_data_perm[2]).astype(int)\n",
    "    y_true_bkg = (cutted_data_perm[1] + cutted_data_perm[2]).astype(int)\n",
    "    \n",
    "    return X,y,y_true_bkg,p\n",
    "\n",
    "#calculates threshold based on a desired efficiency\n",
    "def calc_threshold(sig_pred,back_pred,eff):\n",
    "    threshold = np.linspace(1,0, 1000)\n",
    "    for t in threshold:\n",
    "        counts = np.sum(sig_pred > t)\n",
    "        eEff = counts/len(sig_pred)\n",
    "        if(eEff > eff):\n",
    "            return t\n",
    "\n",
    "#calculates background counts based on a desired signal efficiency\n",
    "def calc_backg_counts(sig_pred,back_pred,eff):\n",
    "    threshold = np.linspace(1,0, 1000)\n",
    "    for t in threshold:\n",
    "        counts = np.sum(sig_pred > t)\n",
    "        eEff = counts/len(sig_pred)\n",
    "        if(eEff > eff):\n",
    "            break\n",
    "    back_counts = np.sum(back_pred > t)\n",
    "    return back_counts\n",
    "\n",
    "#calculate number of signal counts, where no background is present\n",
    "def calc_pure_sig_counts(sig_pred,back_pred,eff):\n",
    "    threshold = np.linspace(1,0, 1000)\n",
    "    for t in threshold:\n",
    "        counts = np.sum(back_pred > t)\n",
    "        eEff = counts/len(back_pred)\n",
    "        if(eEff <= eff):\n",
    "            break\n",
    "    sig_counts = np.sum(sig_pred > t)\n",
    "    return sig_counts\n"
   ]
  },
  {
   "cell_type": "code",
   "execution_count": 6,
   "id": "7872f7eb",
   "metadata": {},
   "outputs": [],
   "source": [
    "\n",
    "#Objective to optimize with optuna\n",
    "#In this case Punzi criterion is optimized\n",
    "def objective(trial):\n",
    "    #define parameters for the classifier\n",
    "    param = {\n",
    "        \"verbosity\": 0,\n",
    "        \"objective\": \"binary:logistic\",\n",
    "        \"tree_method\": \"gpu_hist\",\n",
    "        \"njobs\":32,\n",
    "        \"use_label_encoder\": False,\n",
    "        \"eval_metric\": trial.suggest_categorical(\"eval_metric\", [\"logloss\",\"aucpr\", \"rmse\", \"auc\"]),\n",
    "        #\"booster\": trial.suggest_categorical(\"booster\", [\"gbtree\", \"gblinear\", \"dart\"]),\n",
    "        \"booster\":\"gbtree\",\n",
    "        \"lambda\": trial.suggest_float(\"lambda\", 1e-8, 1.0, log=True),\n",
    "        \"alpha\": trial.suggest_float(\"alpha\", 1e-8, 1.0, log=True),\n",
    "        \"eta\": trial.suggest_float(\"eta\", 1e-8, 1.0, log=True),\n",
    "        \"scale_pos_weight\": trial.suggest_float(\"scale_pos_weight\", 1e-8, 1.0, log=True),\n",
    "        'n_estimators': trial.suggest_int('n_estimators',20,300),\n",
    "        \n",
    "    }\n",
    "\n",
    "    if param[\"booster\"] == \"gbtree\" or param[\"booster\"] == \"dart\":\n",
    "        param[\"max_depth\"] = trial.suggest_int(\"max_depth\", 1, 19)\n",
    "        param[\"gamma\"] = trial.suggest_float(\"gamma\", 1e-8, 1.0, log=True)\n",
    "        param[\"grow_policy\"] = trial.suggest_categorical(\"grow_policy\", [\"depthwise\", \"lossguide\"])\n",
    "        \n",
    "    # Add a callback for pruning.\n",
    "    pruning_callback = optuna.integration.XGBoostPruningCallback(trial, \"validation_0-\" +param[\"eval_metric\"])\n",
    "    \n",
    "    \n",
    "    #create Test and Train sets (shuffles every time for stability)\n",
    "    X,y,y_true_bkg,p = shuffle_data(data)\n",
    "    \n",
    "    k_folds = 3\n",
    "    split_size = int(len(X)/3)\n",
    "    \n",
    "    punzi_crit = 0\n",
    "    for i in range(k_folds):\n",
    "        #split test and train set according to k fold\n",
    "        X_test  = X[i *split_size:(i+1)*split_size]\n",
    "        y_test  = y[i *split_size:(i+1)*split_size]\n",
    "        X_train = np.concatenate([X[:i *split_size],X[(i+1)*split_size:]])\n",
    "        y_train = np.concatenate([y[:i *split_size],y[(i+1)*split_size:]])\n",
    "    \n",
    "        #model_xgb = bst.fit(X_train, y_train,eval_set=[(X_test, y_test)], callbacks=[pruning_callback],  verbose= False)\n",
    "        \n",
    "        #train a classifier\n",
    "        bst = xgb.XGBClassifier(**param)\n",
    "        model_xgb = bst.fit(X_train, y_train,eval_set=[(X_test, y_test)],  verbose= False)\n",
    "    \n",
    "        #calculate predictions\n",
    "        preds = bst.predict_proba(X_test)[:,1]\n",
    "        sig_pred = preds[y_test.astype(np.bool)]\n",
    "        back_pred = preds[~y_test.astype(np.bool)]\n",
    "        \n",
    "        #calculate counts for all thresholds\n",
    "        threshold = np.linspace(0,1, 1000)\n",
    "    \n",
    "        sig_counts = np.sum([sig_pred > t for t in threshold],axis=1)    \n",
    "        back_counts = np.sum([back_pred > t for t in threshold],axis=1)\n",
    "        sig_eff = sig_counts/len(sig_pred)\n",
    "        \n",
    "        #calculate punzi for all threshold and pick max\n",
    "        punzi_crit_all_tresh = sig_eff / ((3/2) + (back_counts)**0.5)\n",
    "        #print(\"Punzi crit in iteration \",i,\" is \",punzi_crit_all_tresh[np.argmax(punzi_crit_all_tresh)])\n",
    "        punzi_crit += punzi_crit_all_tresh[np.argmax(punzi_crit_all_tresh)]\n",
    "    \n",
    "    return punzi_crit/k_folds\n"
   ]
  },
  {
   "cell_type": "code",
   "execution_count": null,
   "id": "0c5707cb",
   "metadata": {},
   "outputs": [
    {
     "name": "stderr",
     "output_type": "stream",
     "text": [
      "\u001b[32m[I 2023-07-13 12:48:58,110]\u001b[0m A new study created in memory with name: no-name-b7355e8a-251f-4a36-b443-8778fda675d6\u001b[0m\n",
      "/home/ceres/hoppner/.local/lib/python3.8/site-packages/optuna/progress_bar.py:56: ExperimentalWarning: Progress bar is experimental (supported from v1.2.0). The interface can change in the future.\n",
      "  self._init_valid()\n"
     ]
    },
    {
     "data": {
      "application/vnd.jupyter.widget-view+json": {
       "model_id": "722b9cb02fe74116be62261ee32099fe",
       "version_major": 2,
       "version_minor": 0
      },
      "text/plain": [
       "  0%|          | 0/40 [00:00<?, ?it/s]"
      ]
     },
     "metadata": {},
     "output_type": "display_data"
    },
    {
     "name": "stdout",
     "output_type": "stream",
     "text": [
      "\u001b[32m[I 2023-07-13 12:49:10,440]\u001b[0m Trial 0 finished with value: 0.025657875662631485 and parameters: {'eval_metric': 'logloss', 'lambda': 0.00035084124683126334, 'alpha': 0.0002363031001588436, 'eta': 5.45773333342869e-06, 'scale_pos_weight': 4.739829186533068e-06, 'n_estimators': 277, 'max_depth': 19, 'gamma': 5.257499233079092e-06, 'grow_policy': 'depthwise'}. Best is trial 0 with value: 0.025657875662631485.\u001b[0m\n",
      "\u001b[32m[I 2023-07-13 12:49:18,135]\u001b[0m Trial 1 finished with value: 0.025655235554419866 and parameters: {'eval_metric': 'aucpr', 'lambda': 0.0014278307258821362, 'alpha': 0.30160819662669075, 'eta': 0.12475391211183605, 'scale_pos_weight': 2.3611186784784598e-05, 'n_estimators': 113, 'max_depth': 10, 'gamma': 4.5601184131654056e-05, 'grow_policy': 'depthwise'}. Best is trial 0 with value: 0.025657875662631485.\u001b[0m\n",
      "\u001b[32m[I 2023-07-13 12:49:19,065]\u001b[0m Trial 2 finished with value: 0.025656884082407298 and parameters: {'eval_metric': 'logloss', 'lambda': 6.108643266018222e-07, 'alpha': 0.00021680776093500073, 'eta': 6.651784381980227e-08, 'scale_pos_weight': 0.0019543274870453447, 'n_estimators': 51, 'max_depth': 15, 'gamma': 3.261452737370066e-08, 'grow_policy': 'depthwise'}. Best is trial 0 with value: 0.025657875662631485.\u001b[0m\n",
      "\u001b[32m[I 2023-07-13 12:49:20,238]\u001b[0m Trial 3 finished with value: 0.025663533796794095 and parameters: {'eval_metric': 'auc', 'lambda': 2.5722949799227686e-05, 'alpha': 2.4352989538033273e-08, 'eta': 1.2535404657408495e-07, 'scale_pos_weight': 0.0006863825843459023, 'n_estimators': 123, 'max_depth': 5, 'gamma': 1.9234348878134534e-07, 'grow_policy': 'lossguide'}. Best is trial 3 with value: 0.025663533796794095.\u001b[0m\n",
      "\u001b[32m[I 2023-07-13 12:49:22,166]\u001b[0m Trial 4 finished with value: 0.025653817100064175 and parameters: {'eval_metric': 'rmse', 'lambda': 0.002110290840592839, 'alpha': 1.1684879170574586e-08, 'eta': 1.7291245837640021e-06, 'scale_pos_weight': 0.0006565653474350059, 'n_estimators': 234, 'max_depth': 19, 'gamma': 9.511295471445191e-05, 'grow_policy': 'depthwise'}. Best is trial 3 with value: 0.025663533796794095.\u001b[0m\n",
      "\u001b[32m[I 2023-07-13 12:49:22,795]\u001b[0m Trial 5 finished with value: 0.025652347437976175 and parameters: {'eval_metric': 'rmse', 'lambda': 0.03630623003509525, 'alpha': 0.44364817043979576, 'eta': 2.532987549885781e-07, 'scale_pos_weight': 1.5691303297821594e-05, 'n_estimators': 114, 'max_depth': 1, 'gamma': 0.002166761258812719, 'grow_policy': 'lossguide'}. Best is trial 3 with value: 0.025663533796794095.\u001b[0m\n",
      "\u001b[32m[I 2023-07-13 12:49:23,422]\u001b[0m Trial 6 finished with value: 0.025657159248972355 and parameters: {'eval_metric': 'logloss', 'lambda': 0.6146292734507175, 'alpha': 0.021838113270029443, 'eta': 4.547113431098414e-05, 'scale_pos_weight': 9.085925320543725e-05, 'n_estimators': 132, 'max_depth': 5, 'gamma': 1.6737124744183268e-06, 'grow_policy': 'lossguide'}. Best is trial 3 with value: 0.025663533796794095.\u001b[0m\n",
      "\u001b[32m[I 2023-07-13 12:49:24,058]\u001b[0m Trial 7 finished with value: 0.025654092081198853 and parameters: {'eval_metric': 'auc', 'lambda': 0.0017650323388002924, 'alpha': 0.001308682010539573, 'eta': 1.757634789300138e-06, 'scale_pos_weight': 2.0995738582544767e-06, 'n_estimators': 94, 'max_depth': 2, 'gamma': 0.0017491221212142122, 'grow_policy': 'depthwise'}. Best is trial 3 with value: 0.025663533796794095.\u001b[0m\n",
      "\u001b[32m[I 2023-07-13 12:49:24,758]\u001b[0m Trial 8 finished with value: 0.02565646944816329 and parameters: {'eval_metric': 'logloss', 'lambda': 3.645614181340977e-05, 'alpha': 1.4866013127221372e-08, 'eta': 0.007945847959047481, 'scale_pos_weight': 2.783156596296309e-08, 'n_estimators': 97, 'max_depth': 18, 'gamma': 0.0006636270982417609, 'grow_policy': 'lossguide'}. Best is trial 3 with value: 0.025663533796794095.\u001b[0m\n",
      "\u001b[32m[I 2023-07-13 12:49:25,450]\u001b[0m Trial 9 finished with value: 0.025660728295490806 and parameters: {'eval_metric': 'auc', 'lambda': 0.2787061001001016, 'alpha': 0.3085810188863514, 'eta': 7.832925597749527e-07, 'scale_pos_weight': 0.01080241238957918, 'n_estimators': 67, 'max_depth': 10, 'gamma': 0.3187606676532091, 'grow_policy': 'depthwise'}. Best is trial 3 with value: 0.025663533796794095.\u001b[0m\n",
      "\u001b[32m[I 2023-07-13 12:49:29,922]\u001b[0m Trial 10 finished with value: 0.025653686495262798 and parameters: {'eval_metric': 'auc', 'lambda': 1.5142689991863447e-08, 'alpha': 1.5240975821805674e-06, 'eta': 1.0470569184305022e-08, 'scale_pos_weight': 0.022519185418512114, 'n_estimators': 183, 'max_depth': 8, 'gamma': 1.9853844611817738e-08, 'grow_policy': 'lossguide'}. Best is trial 3 with value: 0.025663533796794095.\u001b[0m\n",
      "\u001b[32m[I 2023-07-13 12:49:30,789]\u001b[0m Trial 11 finished with value: 0.0256646167675279 and parameters: {'eval_metric': 'auc', 'lambda': 0.8771532456794607, 'alpha': 4.9934992960759125e-06, 'eta': 1.3345927275217168e-08, 'scale_pos_weight': 0.5635174617023653, 'n_estimators': 24, 'max_depth': 13, 'gamma': 0.66975868776008, 'grow_policy': 'lossguide'}. Best is trial 11 with value: 0.0256646167675279.\u001b[0m\n",
      "\u001b[32m[I 2023-07-13 12:49:32,013]\u001b[0m Trial 12 finished with value: 0.02565450715274793 and parameters: {'eval_metric': 'auc', 'lambda': 4.5272537096325005e-05, 'alpha': 3.087627728821832e-06, 'eta': 1.6835119524190227e-08, 'scale_pos_weight': 0.6655134940203952, 'n_estimators': 32, 'max_depth': 13, 'gamma': 0.5093583990248938, 'grow_policy': 'lossguide'}. Best is trial 11 with value: 0.0256646167675279.\u001b[0m\n",
      "\u001b[32m[I 2023-07-13 12:49:34,286]\u001b[0m Trial 13 finished with value: 0.02565548677155835 and parameters: {'eval_metric': 'auc', 'lambda': 0.047818286598698446, 'alpha': 7.055379533384931e-07, 'eta': 8.490475379311752e-08, 'scale_pos_weight': 0.6569489452205363, 'n_estimators': 178, 'max_depth': 6, 'gamma': 0.02775231023722373, 'grow_policy': 'lossguide'}. Best is trial 11 with value: 0.0256646167675279.\u001b[0m\n",
      "\u001b[32m[I 2023-07-13 12:49:54,628]\u001b[0m Trial 14 finished with value: 0.025657118876411176 and parameters: {'eval_metric': 'aucpr', 'lambda': 6.235915195775838e-06, 'alpha': 1.0979754086747985e-05, 'eta': 1.0754120613466673e-08, 'scale_pos_weight': 0.1347368192549574, 'n_estimators': 227, 'max_depth': 13, 'gamma': 0.0349658779060381, 'grow_policy': 'lossguide'}. Best is trial 11 with value: 0.0256646167675279.\u001b[0m\n",
      "\u001b[32m[I 2023-07-13 12:49:55,132]\u001b[0m Trial 15 finished with value: 0.025655432236883945 and parameters: {'eval_metric': 'auc', 'lambda': 0.02189679888880461, 'alpha': 2.0077523347887687e-07, 'eta': 3.5005105505376504e-05, 'scale_pos_weight': 0.039615315873227454, 'n_estimators': 23, 'max_depth': 4, 'gamma': 8.775623077441643e-07, 'grow_policy': 'lossguide'}. Best is trial 11 with value: 0.0256646167675279.\u001b[0m\n",
      "\u001b[32m[I 2023-07-13 12:49:57,791]\u001b[0m Trial 16 finished with value: 0.02565537061546455 and parameters: {'eval_metric': 'auc', 'lambda': 7.20742673598881e-06, 'alpha': 1.3835427530720108e-07, 'eta': 1.2195190898577564e-07, 'scale_pos_weight': 0.0015645596584753997, 'n_estimators': 155, 'max_depth': 8, 'gamma': 1.405533262028207e-07, 'grow_policy': 'lossguide'}. Best is trial 11 with value: 0.0256646167675279.\u001b[0m\n",
      "\u001b[32m[I 2023-07-13 12:49:59,114]\u001b[0m Trial 17 finished with value: 0.11015406888300348 and parameters: {'eval_metric': 'auc', 'lambda': 0.9898609849484697, 'alpha': 1.531130329771584e-05, 'eta': 0.0006038324941577255, 'scale_pos_weight': 0.08438127916402692, 'n_estimators': 65, 'max_depth': 15, 'gamma': 2.191588777592531e-05, 'grow_policy': 'lossguide'}. Best is trial 17 with value: 0.11015406888300348.\u001b[0m\n",
      "\u001b[32m[I 2023-07-13 12:50:04,494]\u001b[0m Trial 18 finished with value: 0.11301944575877183 and parameters: {'eval_metric': 'aucpr', 'lambda': 0.9126405097342398, 'alpha': 9.937335770131547e-06, 'eta': 0.0006024890049030579, 'scale_pos_weight': 0.8112666772731889, 'n_estimators': 62, 'max_depth': 16, 'gamma': 1.6483996407572185e-05, 'grow_policy': 'lossguide'}. Best is trial 18 with value: 0.11301944575877183.\u001b[0m\n",
      "\u001b[32m[I 2023-07-13 12:50:10,304]\u001b[0m Trial 19 finished with value: 0.1042231628392946 and parameters: {'eval_metric': 'aucpr', 'lambda': 0.11100705748920142, 'alpha': 4.8939763900595944e-05, 'eta': 0.0007886358027847305, 'scale_pos_weight': 0.08389466432734904, 'n_estimators': 69, 'max_depth': 16, 'gamma': 1.3008909495651215e-05, 'grow_policy': 'lossguide'}. Best is trial 18 with value: 0.11301944575877183.\u001b[0m\n"
     ]
    },
    {
     "name": "stdout",
     "output_type": "stream",
     "text": [
      "\u001b[32m[I 2023-07-13 12:50:15,495]\u001b[0m Trial 20 finished with value: 0.09403804646438135 and parameters: {'eval_metric': 'aucpr', 'lambda': 0.02017888491235032, 'alpha': 3.0668524240119595e-05, 'eta': 0.00043236542371128094, 'scale_pos_weight': 0.005142614322925893, 'n_estimators': 76, 'max_depth': 16, 'gamma': 1.4569841317491064e-05, 'grow_policy': 'lossguide'}. Best is trial 18 with value: 0.11301944575877183.\u001b[0m\n",
      "\u001b[32m[I 2023-07-13 12:50:20,261]\u001b[0m Trial 21 finished with value: 0.11244813139811222 and parameters: {'eval_metric': 'aucpr', 'lambda': 0.17619213735394915, 'alpha': 2.5679208355331018e-05, 'eta': 0.0007633663324844896, 'scale_pos_weight': 0.07233221578610971, 'n_estimators': 58, 'max_depth': 16, 'gamma': 1.2208224608898365e-05, 'grow_policy': 'lossguide'}. Best is trial 18 with value: 0.11301944575877183.\u001b[0m\n",
      "\u001b[32m[I 2023-07-13 12:50:23,965]\u001b[0m Trial 22 finished with value: 0.1198939726386452 and parameters: {'eval_metric': 'aucpr', 'lambda': 0.8281166476406714, 'alpha': 8.150306944023412e-06, 'eta': 0.0031597401707378027, 'scale_pos_weight': 0.1255514093935434, 'n_estimators': 45, 'max_depth': 15, 'gamma': 0.00014490896052505027, 'grow_policy': 'lossguide'}. Best is trial 22 with value: 0.1198939726386452.\u001b[0m\n",
      "\u001b[32m[I 2023-07-13 12:50:27,877]\u001b[0m Trial 23 finished with value: 0.12109053415344205 and parameters: {'eval_metric': 'aucpr', 'lambda': 0.12869786121111113, 'alpha': 7.577457878621525e-05, 'eta': 0.005688502927904861, 'scale_pos_weight': 0.17405408409254589, 'n_estimators': 43, 'max_depth': 17, 'gamma': 8.235590084732102e-05, 'grow_policy': 'lossguide'}. Best is trial 23 with value: 0.12109053415344205.\u001b[0m\n",
      "\u001b[32m[I 2023-07-13 12:50:31,972]\u001b[0m Trial 24 finished with value: 0.1209170015938243 and parameters: {'eval_metric': 'aucpr', 'lambda': 0.16442328967137637, 'alpha': 0.00015789097530914003, 'eta': 0.009700108079125726, 'scale_pos_weight': 0.2528168603173295, 'n_estimators': 43, 'max_depth': 18, 'gamma': 0.0003507364167938485, 'grow_policy': 'lossguide'}. Best is trial 23 with value: 0.12109053415344205.\u001b[0m\n",
      "\u001b[32m[I 2023-07-13 12:50:34,985]\u001b[0m Trial 25 finished with value: 0.10799091690774465 and parameters: {'eval_metric': 'aucpr', 'lambda': 0.1259609182800662, 'alpha': 0.0006877497926858547, 'eta': 0.010549934470239955, 'scale_pos_weight': 0.010142896640071753, 'n_estimators': 43, 'max_depth': 18, 'gamma': 0.00033436615515952645, 'grow_policy': 'lossguide'}. Best is trial 23 with value: 0.12109053415344205.\u001b[0m\n",
      "\u001b[32m[I 2023-07-13 12:50:40,895]\u001b[0m Trial 26 finished with value: 0.12324947915059459 and parameters: {'eval_metric': 'aucpr', 'lambda': 0.005463997837274555, 'alpha': 0.0001013813164901512, 'eta': 0.6427177332250094, 'scale_pos_weight': 0.19136842858249176, 'n_estimators': 89, 'max_depth': 12, 'gamma': 0.00019914086469980565, 'grow_policy': 'lossguide'}. Best is trial 26 with value: 0.12324947915059459.\u001b[0m\n",
      "\u001b[32m[I 2023-07-13 12:50:46,730]\u001b[0m Trial 27 finished with value: 0.12487909252351226 and parameters: {'eval_metric': 'aucpr', 'lambda': 0.007355563710233082, 'alpha': 0.00012074618430036455, 'eta': 0.9926460311061678, 'scale_pos_weight': 0.015669985723347997, 'n_estimators': 91, 'max_depth': 12, 'gamma': 0.00010948967976708817, 'grow_policy': 'lossguide'}. Best is trial 27 with value: 0.12487909252351226.\u001b[0m\n",
      "\u001b[32m[I 2023-07-13 12:50:52,621]\u001b[0m Trial 28 finished with value: 0.12814051080757138 and parameters: {'eval_metric': 'aucpr', 'lambda': 0.006966939000179948, 'alpha': 0.0017393604883141026, 'eta': 0.7091769336483585, 'scale_pos_weight': 0.023693017929778837, 'n_estimators': 91, 'max_depth': 12, 'gamma': 5.036586598041749e-05, 'grow_policy': 'lossguide'}. Best is trial 28 with value: 0.12814051080757138.\u001b[0m\n",
      "\u001b[32m[I 2023-07-13 12:50:53,375]\u001b[0m Trial 29 finished with value: 0.1188888068880255 and parameters: {'eval_metric': 'rmse', 'lambda': 0.005089242822600912, 'alpha': 0.0014394866026262363, 'eta': 0.9652151018799671, 'scale_pos_weight': 0.02452073680383354, 'n_estimators': 147, 'max_depth': 11, 'gamma': 4.9495215740003095e-06, 'grow_policy': 'depthwise'}. Best is trial 28 with value: 0.12814051080757138.\u001b[0m\n",
      "\u001b[32m[I 2023-07-13 12:50:59,113]\u001b[0m Trial 30 finished with value: 0.1253337657729112 and parameters: {'eval_metric': 'aucpr', 'lambda': 0.0003316290281739553, 'alpha': 0.005147670774879148, 'eta': 0.8072709515354798, 'scale_pos_weight': 0.0061039815734163, 'n_estimators': 91, 'max_depth': 12, 'gamma': 5.42387232404381e-05, 'grow_policy': 'lossguide'}. Best is trial 28 with value: 0.12814051080757138.\u001b[0m\n",
      "\u001b[32m[I 2023-07-13 12:51:04,702]\u001b[0m Trial 31 finished with value: 0.12469471896959199 and parameters: {'eval_metric': 'aucpr', 'lambda': 0.0003653301869638176, 'alpha': 0.007663836272534449, 'eta': 0.9981811661003126, 'scale_pos_weight': 0.006439639131416125, 'n_estimators': 92, 'max_depth': 12, 'gamma': 6.173218143233274e-05, 'grow_policy': 'lossguide'}. Best is trial 28 with value: 0.12814051080757138.\u001b[0m\n",
      "\u001b[32m[I 2023-07-13 12:51:21,907]\u001b[0m Trial 32 finished with value: 0.1298497409901209 and parameters: {'eval_metric': 'aucpr', 'lambda': 0.0003988299152511626, 'alpha': 0.007307685436550393, 'eta': 0.1820193865147644, 'scale_pos_weight': 0.004715077982781119, 'n_estimators': 296, 'max_depth': 9, 'gamma': 5.729673995585383e-05, 'grow_policy': 'lossguide'}. Best is trial 32 with value: 0.1298497409901209.\u001b[0m\n"
     ]
    }
   ],
   "source": [
    "%%time\n",
    "#do the optimization for 500 trials\n",
    "study = optuna.create_study(\n",
    "        pruner=optuna.pruners.MedianPruner(n_warmup_steps=25), \n",
    "        direction=\"maximize\",\n",
    "    )\n",
    "\n",
    "study.optimize(objective, \n",
    "               n_trials=400, \n",
    "               show_progress_bar=True, \n",
    "              )\n",
    "\n",
    "pruned_trials = study.get_trials(deepcopy=False, states=[TrialState.PRUNED])\n",
    "complete_trials = study.get_trials(deepcopy=False, states=[TrialState.COMPLETE])\n",
    "\n",
    "print(\"Study statistics: \")\n",
    "print(\"  Number of finished trials: \", len(study.trials))\n",
    "print(\"  Number of pruned trials: \", len(pruned_trials))\n",
    "print(\"  Number of complete trials: \", len(complete_trials))\n",
    "\n",
    "print(\"Best trial:\")\n",
    "trial = study.best_trial\n",
    "\n",
    "print(\"  Value: \", trial.value)\n",
    "\n",
    "print(\"  Params: \")\n",
    "\n",
    "params = []\n",
    "\n",
    "for key, value in trial.params.items():\n",
    "    params.append(value)\n",
    "    print(\"    {}: {}\".format(key, value))"
   ]
  },
  {
   "cell_type": "code",
   "execution_count": 19,
   "id": "635aba00",
   "metadata": {},
   "outputs": [
    {
     "data": {
      "application/vnd.plotly.v1+json": {
       "config": {
        "plotlyServerURL": "https://plot.ly"
       },
       "data": [
        {
         "mode": "markers",
         "name": "Objective Value",
         "type": "scatter",
         "x": [
          0,
          1,
          2,
          3,
          4,
          5,
          6,
          7,
          8,
          9,
          10,
          11,
          12,
          13,
          14,
          15,
          16,
          17,
          18,
          19,
          20,
          21,
          22,
          23,
          24,
          25,
          26,
          27,
          28,
          29,
          30,
          31,
          32,
          33,
          34,
          35,
          36,
          37,
          38,
          39,
          40,
          41,
          42,
          43,
          44,
          45,
          46,
          47,
          48,
          49,
          50,
          51,
          52,
          53,
          54,
          55,
          56,
          57,
          58,
          59,
          60,
          61,
          62,
          63,
          64,
          65,
          66,
          67,
          68,
          69,
          70,
          71,
          72,
          73,
          74,
          75,
          76,
          77,
          78,
          79,
          80,
          81,
          82,
          83,
          84,
          85,
          86,
          87,
          88,
          89,
          90,
          91,
          92,
          93,
          94,
          95,
          96,
          97,
          98,
          99,
          100,
          101,
          102,
          103,
          104,
          105,
          106,
          107,
          108,
          109,
          110,
          111,
          112,
          113,
          114,
          115,
          116,
          117,
          118,
          119,
          120,
          121,
          122,
          123,
          124,
          125,
          126,
          127,
          128,
          129,
          130,
          131,
          132,
          133,
          134,
          135,
          136,
          137,
          138,
          139,
          140,
          141,
          142,
          143,
          144,
          145,
          146,
          147,
          148,
          149,
          150,
          151,
          152,
          153,
          154,
          155,
          156,
          157,
          158,
          159,
          160,
          161,
          162,
          163,
          164,
          165,
          166,
          167,
          168,
          169,
          170,
          171,
          172,
          173,
          174,
          175,
          176,
          177,
          178,
          179,
          180,
          181,
          182,
          183,
          184,
          185,
          186,
          187,
          188,
          189,
          190,
          191,
          192,
          193,
          194,
          195,
          196,
          197,
          198,
          199,
          200,
          201,
          202,
          203,
          204,
          205,
          206,
          207,
          208,
          209,
          210,
          211,
          212,
          213,
          214,
          215,
          216,
          217,
          218,
          219,
          220,
          221,
          222,
          223,
          224,
          225,
          226,
          227,
          228,
          229,
          230,
          231,
          232,
          233,
          234,
          235,
          236,
          237,
          238,
          239,
          240,
          241,
          242,
          243,
          244,
          245,
          246,
          247,
          248,
          249,
          250,
          251,
          252,
          253,
          254,
          255,
          256,
          257,
          258,
          259,
          260,
          261,
          262,
          263,
          264,
          265,
          266,
          267,
          268,
          269,
          270,
          271,
          272,
          273,
          274,
          275,
          276,
          277,
          278,
          279,
          280,
          281,
          282,
          283,
          284,
          285,
          286,
          287,
          288,
          289,
          290,
          291,
          292,
          293,
          294,
          295,
          296,
          297,
          298,
          299,
          300,
          301,
          302,
          303,
          304,
          305,
          306,
          307,
          308,
          309,
          310,
          311,
          312,
          313,
          314,
          315,
          316,
          317,
          318,
          319,
          320,
          321,
          322,
          323,
          324,
          325,
          326,
          327,
          328,
          329,
          330,
          331,
          332,
          333,
          334,
          335,
          336,
          337,
          338,
          339,
          340,
          341,
          342,
          343,
          344,
          345,
          346,
          347,
          348,
          349,
          350,
          351,
          352,
          353,
          354,
          355,
          356,
          357,
          358,
          359,
          360,
          361,
          362,
          363,
          364,
          365,
          366,
          367,
          368,
          369,
          370,
          371,
          372,
          373,
          374,
          375,
          376,
          377,
          378,
          379,
          380,
          381,
          382,
          383,
          384,
          385,
          386,
          387,
          388,
          389,
          390,
          391,
          392,
          393,
          394,
          395,
          396,
          397,
          398,
          399,
          400,
          401,
          402,
          403,
          404,
          405,
          406,
          407,
          408,
          409,
          410,
          411,
          412,
          413,
          414,
          415,
          416,
          417,
          418,
          419,
          420,
          421,
          422,
          423,
          424,
          425,
          426,
          427,
          428,
          429,
          430,
          431,
          432,
          433,
          434,
          435,
          436,
          437,
          438,
          439,
          440,
          441,
          442,
          443,
          444,
          445,
          446,
          447,
          448,
          449,
          450,
          451,
          452,
          453,
          454,
          455,
          456,
          457,
          458,
          459,
          460,
          461,
          462,
          463,
          464,
          465,
          466,
          467,
          468,
          469,
          470,
          471,
          472,
          473,
          474,
          475,
          476,
          477,
          478,
          479,
          480,
          481,
          482,
          483,
          484,
          485,
          486,
          487,
          488,
          489,
          490,
          491,
          492,
          493,
          494,
          495,
          496,
          497,
          498,
          499
         ],
         "y": [
          0.025661993901366646,
          0.025655652152333827,
          0.02565576892197986,
          0.02565600264869637,
          0.025659536328166987,
          0.02565235875379861,
          0.08186765047669704,
          0.025654969670228994,
          0.025652321114011608,
          0.12732882011662303,
          0.02565268326659784,
          0.11672483595417844,
          0.11618970770811353,
          0.11184155318283805,
          0.1258776336591698,
          0.1246519739087299,
          0.09813615347889632,
          0.1427215645508988,
          0.025655236920402308,
          0.14091054344695494,
          0.10548633393465694,
          0.13010120330829858,
          0.14167755063790843,
          0.17243823467514943,
          0.12972265384789938,
          0.10317845387088165,
          0.1335956028348724,
          0.05791388768197461,
          0.12912189423016698,
          0.025655088818107786,
          0.13774306683661844,
          0.13609508166291676,
          0.13531135810740808,
          0.13984202814201063,
          0.10991939213036302,
          0.13750382627667201,
          0.11347318871829165,
          0.1295612254678914,
          0.13470225415100487,
          0.13736665399057932,
          0.10204719497445142,
          0.13142551664222266,
          0.09529458306824064,
          0.1349549347686491,
          0.136572006017804,
          0.1353438743733623,
          0.13561132086869665,
          0.1630379054316457,
          0.12418361833105805,
          0.12255298219808558,
          0.1281347778313442,
          0.13867888493403088,
          0.13016099421120067,
          0.1415757974787238,
          0.1313976090460198,
          0.13002510246304855,
          0.12519865469855426,
          0.13715983672802248,
          0.1426377802116229,
          0.15230255628033584,
          0.14133675066372398,
          0.13973829313626426,
          0.12336186194100358,
          0.12170357971436523,
          0.13000575869732597,
          0.11831351221470617,
          0.13956946023501154,
          0.13344940856128798,
          0.1263658677387454,
          0.12676177199779703,
          0.12630907448861597,
          0.13497946818015694,
          0.13575363169796206,
          0.1511866292523367,
          0.13822757566815394,
          0.13898078346854845,
          0.13766593217809642,
          0.14150124666757877,
          0.14210620187657882,
          0.13207006228802526,
          0.14088733830353667,
          0.15156564382225032,
          0.1783057243941608,
          0.12593904286778726,
          0.12601369444018629,
          0.133758230810997,
          0.13228737429013981,
          0.12365092962976569,
          0.13325005916342,
          0.13010472761315994,
          0.14300436290842236,
          0.13801632107039472,
          0.14181842488893873,
          0.1301811869128042,
          0.13547248976002965,
          0.13419599618016895,
          0.13210335964740155,
          0.13393034242642438,
          0.1464285474982439,
          0.14084628130227392,
          0.13845828702068438,
          0.14011381305208845,
          0.14062124596532258,
          0.12418201298298075,
          0.13601045673793763,
          0.13248002449723345,
          0.1427118801064838,
          0.13207527720378856,
          0.1371205466998131,
          0.14617024809277768,
          0.12523294644349356,
          0.1430905902836103,
          0.14280488402823713,
          0.1466631351006327,
          0.13652522217969632,
          0.13380595107781657,
          0.15568120418641404,
          0.14057403398593585,
          0.13633329500896588,
          0.1366078222952175,
          0.14307365813517234,
          0.13666722091464253,
          0.13203290682988758,
          0.13753422221112113,
          0.13935690240013385,
          0.13612173482937875,
          0.1386718352666668,
          0.14532809318331286,
          0.11495099106516092,
          0.11708780825350378,
          0.1720251961065906,
          0.14248552653014113,
          0.1591778878033487,
          0.13690250566307086,
          0.13552959773377773,
          0.14645136655873023,
          0.1359051590794181,
          0.1360671289271288,
          0.13463903330775237,
          0.13336286259651797,
          0.12649464826280368,
          0.13185755024629242,
          0.14536655384074929,
          0.14978784538842815,
          0.14181076342772286,
          0.13695929657763387,
          0.1508544436943521,
          0.1369820306546187,
          0.156949880257411,
          0.15264027983825815,
          0.14063591554979651,
          0.13824440100357352,
          0.13569426910282154,
          0.13269758533761003,
          0.13372840529963592,
          0.15157493721581733,
          0.134312734648635,
          0.1306197100642902,
          0.13782310143232235,
          0.1100167679137994,
          0.1311285701778703,
          0.12883585736603734,
          0.14340847777316787,
          0.14108028862375646,
          0.15366828768168617,
          0.13671983682890917,
          0.1398283414634035,
          0.13233560404863118,
          0.14057525165417228,
          0.13161549664217262,
          0.1376081463618087,
          0.1438558774434352,
          0.05797260263740839,
          0.16889926686975,
          0.11036017059497927,
          0.1368477903228524,
          0.13082564528827548,
          0.12768601739791133,
          0.14336181977786677,
          0.12979152052254253,
          0.0893629187350856,
          0.17857276796329838,
          0.13557941220807965,
          0.14701048039439973,
          0.18846986178352368,
          0.13814636313473347,
          0.13996023418228745,
          0.1390007414897452,
          0.13388692580724007,
          0.12963099445043,
          0.14567329141038146,
          0.14469013198969968,
          0.20717908639355556,
          0.1356850509750133,
          0.02565962002238234,
          0.09734056945213104,
          0.1193346042238372,
          0.14558224778936787,
          0.025656978262736104,
          0.14292187403846188,
          0.13856462338011846,
          0.1331360289532212,
          0.12503104648698257,
          0.15233823513822006,
          0.1256253818350452,
          0.15085152561841889,
          0.12287892793494008,
          0.11386481146931308,
          0.1106379268978578,
          0.13326858136489067,
          0.1469096098986196,
          0.13543356380004534,
          0.13983669776590615,
          0.10275867288524602,
          0.13621683824782652,
          0.1321186643395754,
          0.13882724412244396,
          0.12385436738051636,
          0.1307765859119416,
          0.13532712816252354,
          0.11749034622965021,
          0.1339219297509263,
          0.14616673000623773,
          0.13195615824694942,
          0.1042377065078171,
          0.14013129854301637,
          0.10330833848189876,
          0.1357205669080674,
          0.14036471335576148,
          0.025660049108710715,
          0.12772548780812235,
          0.13616794999633056,
          0.14059670234730215,
          0.1420562866226399,
          0.10292003888977062,
          0.13944136990059378,
          0.16892232008401942,
          0.1451098670172207,
          0.12427711023000564,
          0.14004975662443486,
          0.11411840850314466,
          0.13927616424026526,
          0.13244215977487997,
          0.025656489603127382,
          0.13750502896305986,
          0.025656745963000188,
          0.12731777106424166,
          0.13904230253452124,
          0.13712356208732282,
          0.13607483554333558,
          0.13347319220433362,
          0.11386944192933174,
          0.0838264502331441,
          0.14694482475135812,
          0.13784000592333578,
          0.1281123989608781,
          0.0256584428419749,
          0.14148418451131553,
          0.14623738674479356,
          0.10897236340631566,
          0.09654647967852607,
          0.13290381743496127,
          0.13599907800877006,
          0.13650804534902586,
          0.1314130659045158,
          0.09899398751562154,
          0.1446029598199042,
          0.1494381149127065,
          0.13287205342199096,
          0.17118427806088024,
          0.14394074503908705,
          0.12445516009030301,
          0.1287643816671337,
          0.12357210756145416,
          0.11511473978212063,
          0.15099745408029056,
          0.13902987869376882,
          0.11764997055504005,
          0.09854210887269171,
          0.129622773468605,
          0.10948620820586141,
          0.025656698099776953,
          0.13431790169028732,
          0.09596491060914923,
          0.12894556379661018,
          0.13420451604948944,
          0.14027072314466968,
          0.1062703418278634,
          0.0256534217960552,
          0.11602496611965252,
          0.13471673817807953,
          0.11968253404121047,
          0.02566192295176828,
          0.1365737195533168,
          0.09691155679182384,
          0.1369408626302875,
          0.13116997438811462,
          0.10017684649856294,
          0.13670628888198436,
          0.1310795439251143,
          0.13523181381303037,
          0.1408491546529447,
          0.12016808594943064,
          0.138125191206963,
          0.13981574775757935,
          0.1060910266476311,
          0.1366362766382573,
          0.1362349630273445,
          0.12933764906459344,
          0.1081288948908497,
          0.1502352741952582,
          0.13667213751062293,
          0.13159418861660535,
          0.13049396139467542,
          0.1480026644303604,
          0.02565788232012191,
          0.12736225366574136,
          0.12735761747584673,
          0.14624032795196262,
          0.11257596861812437,
          0.12282807293290125,
          0.13513093267143247,
          0.14723157667736225,
          0.13405534154793894,
          0.11013497875214041,
          0.11869233286335588,
          0.13219204672560012,
          0.14837829730723281,
          0.12796634797031883,
          0.1256047753665386,
          0.025659213870762972,
          0.12987604880351514,
          0.13980148696079261,
          0.11437153873513577,
          0.11494033978447506,
          0.02566150325931781,
          0.025653933479824587,
          0.1418403745369012,
          0.11845925705175946,
          0.13349317767834334,
          0.13293167249847396,
          0.12795783410204783,
          0.025652546992074126,
          0.16357054964720638,
          0.14564997071489091,
          0.142693831975262,
          0.1039429911268115,
          0.13841522234839973,
          0.08916429001169918,
          0.10061829551080868,
          0.025658055917700224,
          0.1270284807250609,
          0.02566082499503193,
          0.02565203916450939,
          0.13635083258336214,
          0.11714166221450072,
          0.12283032636499153,
          0.02566008753169857,
          0.1401533927715912,
          0.12938043309905797,
          0.1246198073297727,
          0.02565341400892655,
          0.0256589503440456,
          0.1380075078081777,
          0.10091804298089217,
          0.09984797971733302,
          0.025655996671557862,
          0.13473693530670847,
          0.13441268955662222,
          0.13361769229585502,
          0.08548805841090411,
          0.1416580036775571,
          0.15586158758093435,
          0.15120228790086218,
          0.14350326008804792,
          0.1344446690525255,
          0.1352521804754315,
          0.1400824672578333,
          0.14643624637113825,
          0.09907588156956355,
          0.13751060116875477,
          0.13624432571056047,
          0.02565881388752274,
          0.13761347051230155,
          0.13841484653145683,
          0.07633142863879089,
          0.11365201136718066,
          0.09901682033179326,
          0.1444155749029479,
          0.1510152681157281,
          0.13763459089851712,
          0.025655363952815733,
          0.025658411469327458,
          0.13684960682019098,
          0.137740795958944,
          0.13495884031013808,
          0.142377393712449,
          0.15085994800749794,
          0.13077221904764388,
          0.1315922851410351,
          0.025658004052781975,
          0.1295499863950175,
          0.138448349797609,
          0.12877289293331573,
          0.13836682062081704,
          0.025657191244734007,
          0.1337570716436654,
          0.1818252206153752,
          0.13657317868799498,
          0.025665024655276505,
          0.12512523006015017,
          0.02565734628363131,
          0.13190550053523392,
          0.10473781414790596,
          0.11804317884326394,
          0.12320165551548345,
          0.025658465163883693,
          0.0256554132710399,
          0.15120112837490246,
          0.025652837850231775,
          0.025660236203551946,
          0.025655557522336656,
          0.10529704909381117,
          0.10116218884636995,
          0.13181715320317378,
          0.13229329940163698,
          0.025657511530707475,
          0.13203252736429086,
          0.13736687450944723,
          0.0920681617861596,
          0.11880196679532361,
          0.12886879629531708,
          0.1401835410033121,
          0.025658337197410824,
          0.1311165305034574,
          0.12915440586056356,
          0.1491073985367671,
          0.18515528787213584,
          0.11645040222742119,
          0.13489131307126132,
          0.14466221233843948,
          0.02565601671038759,
          0.025662114015354554,
          0.13885336204658424,
          0.02565896563835181,
          0.14573520912819615,
          0.133146425038544,
          0.12447516588714937,
          0.02565695148470878,
          0.10431997600525361,
          0.10692726171111044,
          0.1413653558133564,
          0.15584133286070181,
          0.13075059493812985,
          0.11708293397096882,
          0.13860073156223485,
          0.0881396417464149,
          0.1060450359914189,
          0.10190119508986663,
          0.1507187548106342,
          0.13688547227448647,
          0.14017027954532013,
          0.12732146453966284,
          0.02565839966845848,
          0.025655566186337048,
          0.025655498788136194,
          0.02565811718915738,
          0.0643339839381576,
          0.07894282184355819,
          0.025653341483636013,
          0.13827340176674321,
          0.1399175754224,
          0.12311497020237135,
          0.11938883050619799,
          0.10124652547548928,
          0.11758865770603387,
          0.02565583346166822,
          0.025658576375389947,
          0.025655382009035808,
          0.14672764708732727,
          0.025658047826587007,
          0.025659189984699533,
          0.02565263326354809,
          0.13259536558720575,
          0.08711641211263506,
          0.0946524693011182,
          0.12553179419655738,
          0.14589363591859936,
          0.1024732068912327,
          0.13964352563761082,
          0.14488302171347442,
          0.15030829836855314,
          0.025657875662631488,
          0.025658242395883282,
          0.02565579370017734,
          0.02565544658042898,
          0.1277013806901987,
          0.15696881022464212,
          0.13365594002449885,
          0.13418178470763922
         ]
        },
        {
         "name": "Best Value",
         "type": "scatter",
         "x": [
          0,
          1,
          2,
          3,
          4,
          5,
          6,
          7,
          8,
          9,
          10,
          11,
          12,
          13,
          14,
          15,
          16,
          17,
          18,
          19,
          20,
          21,
          22,
          23,
          24,
          25,
          26,
          27,
          28,
          29,
          30,
          31,
          32,
          33,
          34,
          35,
          36,
          37,
          38,
          39,
          40,
          41,
          42,
          43,
          44,
          45,
          46,
          47,
          48,
          49,
          50,
          51,
          52,
          53,
          54,
          55,
          56,
          57,
          58,
          59,
          60,
          61,
          62,
          63,
          64,
          65,
          66,
          67,
          68,
          69,
          70,
          71,
          72,
          73,
          74,
          75,
          76,
          77,
          78,
          79,
          80,
          81,
          82,
          83,
          84,
          85,
          86,
          87,
          88,
          89,
          90,
          91,
          92,
          93,
          94,
          95,
          96,
          97,
          98,
          99,
          100,
          101,
          102,
          103,
          104,
          105,
          106,
          107,
          108,
          109,
          110,
          111,
          112,
          113,
          114,
          115,
          116,
          117,
          118,
          119,
          120,
          121,
          122,
          123,
          124,
          125,
          126,
          127,
          128,
          129,
          130,
          131,
          132,
          133,
          134,
          135,
          136,
          137,
          138,
          139,
          140,
          141,
          142,
          143,
          144,
          145,
          146,
          147,
          148,
          149,
          150,
          151,
          152,
          153,
          154,
          155,
          156,
          157,
          158,
          159,
          160,
          161,
          162,
          163,
          164,
          165,
          166,
          167,
          168,
          169,
          170,
          171,
          172,
          173,
          174,
          175,
          176,
          177,
          178,
          179,
          180,
          181,
          182,
          183,
          184,
          185,
          186,
          187,
          188,
          189,
          190,
          191,
          192,
          193,
          194,
          195,
          196,
          197,
          198,
          199,
          200,
          201,
          202,
          203,
          204,
          205,
          206,
          207,
          208,
          209,
          210,
          211,
          212,
          213,
          214,
          215,
          216,
          217,
          218,
          219,
          220,
          221,
          222,
          223,
          224,
          225,
          226,
          227,
          228,
          229,
          230,
          231,
          232,
          233,
          234,
          235,
          236,
          237,
          238,
          239,
          240,
          241,
          242,
          243,
          244,
          245,
          246,
          247,
          248,
          249,
          250,
          251,
          252,
          253,
          254,
          255,
          256,
          257,
          258,
          259,
          260,
          261,
          262,
          263,
          264,
          265,
          266,
          267,
          268,
          269,
          270,
          271,
          272,
          273,
          274,
          275,
          276,
          277,
          278,
          279,
          280,
          281,
          282,
          283,
          284,
          285,
          286,
          287,
          288,
          289,
          290,
          291,
          292,
          293,
          294,
          295,
          296,
          297,
          298,
          299,
          300,
          301,
          302,
          303,
          304,
          305,
          306,
          307,
          308,
          309,
          310,
          311,
          312,
          313,
          314,
          315,
          316,
          317,
          318,
          319,
          320,
          321,
          322,
          323,
          324,
          325,
          326,
          327,
          328,
          329,
          330,
          331,
          332,
          333,
          334,
          335,
          336,
          337,
          338,
          339,
          340,
          341,
          342,
          343,
          344,
          345,
          346,
          347,
          348,
          349,
          350,
          351,
          352,
          353,
          354,
          355,
          356,
          357,
          358,
          359,
          360,
          361,
          362,
          363,
          364,
          365,
          366,
          367,
          368,
          369,
          370,
          371,
          372,
          373,
          374,
          375,
          376,
          377,
          378,
          379,
          380,
          381,
          382,
          383,
          384,
          385,
          386,
          387,
          388,
          389,
          390,
          391,
          392,
          393,
          394,
          395,
          396,
          397,
          398,
          399,
          400,
          401,
          402,
          403,
          404,
          405,
          406,
          407,
          408,
          409,
          410,
          411,
          412,
          413,
          414,
          415,
          416,
          417,
          418,
          419,
          420,
          421,
          422,
          423,
          424,
          425,
          426,
          427,
          428,
          429,
          430,
          431,
          432,
          433,
          434,
          435,
          436,
          437,
          438,
          439,
          440,
          441,
          442,
          443,
          444,
          445,
          446,
          447,
          448,
          449,
          450,
          451,
          452,
          453,
          454,
          455,
          456,
          457,
          458,
          459,
          460,
          461,
          462,
          463,
          464,
          465,
          466,
          467,
          468,
          469,
          470,
          471,
          472,
          473,
          474,
          475,
          476,
          477,
          478,
          479,
          480,
          481,
          482,
          483,
          484,
          485,
          486,
          487,
          488,
          489,
          490,
          491,
          492,
          493,
          494,
          495,
          496,
          497,
          498,
          499
         ],
         "y": [
          0.025661993901366646,
          0.025661993901366646,
          0.025661993901366646,
          0.025661993901366646,
          0.025661993901366646,
          0.025661993901366646,
          0.08186765047669704,
          0.08186765047669704,
          0.08186765047669704,
          0.12732882011662303,
          0.12732882011662303,
          0.12732882011662303,
          0.12732882011662303,
          0.12732882011662303,
          0.12732882011662303,
          0.12732882011662303,
          0.12732882011662303,
          0.1427215645508988,
          0.1427215645508988,
          0.1427215645508988,
          0.1427215645508988,
          0.1427215645508988,
          0.1427215645508988,
          0.17243823467514943,
          0.17243823467514943,
          0.17243823467514943,
          0.17243823467514943,
          0.17243823467514943,
          0.17243823467514943,
          0.17243823467514943,
          0.17243823467514943,
          0.17243823467514943,
          0.17243823467514943,
          0.17243823467514943,
          0.17243823467514943,
          0.17243823467514943,
          0.17243823467514943,
          0.17243823467514943,
          0.17243823467514943,
          0.17243823467514943,
          0.17243823467514943,
          0.17243823467514943,
          0.17243823467514943,
          0.17243823467514943,
          0.17243823467514943,
          0.17243823467514943,
          0.17243823467514943,
          0.17243823467514943,
          0.17243823467514943,
          0.17243823467514943,
          0.17243823467514943,
          0.17243823467514943,
          0.17243823467514943,
          0.17243823467514943,
          0.17243823467514943,
          0.17243823467514943,
          0.17243823467514943,
          0.17243823467514943,
          0.17243823467514943,
          0.17243823467514943,
          0.17243823467514943,
          0.17243823467514943,
          0.17243823467514943,
          0.17243823467514943,
          0.17243823467514943,
          0.17243823467514943,
          0.17243823467514943,
          0.17243823467514943,
          0.17243823467514943,
          0.17243823467514943,
          0.17243823467514943,
          0.17243823467514943,
          0.17243823467514943,
          0.17243823467514943,
          0.17243823467514943,
          0.17243823467514943,
          0.17243823467514943,
          0.17243823467514943,
          0.17243823467514943,
          0.17243823467514943,
          0.17243823467514943,
          0.17243823467514943,
          0.1783057243941608,
          0.1783057243941608,
          0.1783057243941608,
          0.1783057243941608,
          0.1783057243941608,
          0.1783057243941608,
          0.1783057243941608,
          0.1783057243941608,
          0.1783057243941608,
          0.1783057243941608,
          0.1783057243941608,
          0.1783057243941608,
          0.1783057243941608,
          0.1783057243941608,
          0.1783057243941608,
          0.1783057243941608,
          0.1783057243941608,
          0.1783057243941608,
          0.1783057243941608,
          0.1783057243941608,
          0.1783057243941608,
          0.1783057243941608,
          0.1783057243941608,
          0.1783057243941608,
          0.1783057243941608,
          0.1783057243941608,
          0.1783057243941608,
          0.1783057243941608,
          0.1783057243941608,
          0.1783057243941608,
          0.1783057243941608,
          0.1783057243941608,
          0.1783057243941608,
          0.1783057243941608,
          0.1783057243941608,
          0.1783057243941608,
          0.1783057243941608,
          0.1783057243941608,
          0.1783057243941608,
          0.1783057243941608,
          0.1783057243941608,
          0.1783057243941608,
          0.1783057243941608,
          0.1783057243941608,
          0.1783057243941608,
          0.1783057243941608,
          0.1783057243941608,
          0.1783057243941608,
          0.1783057243941608,
          0.1783057243941608,
          0.1783057243941608,
          0.1783057243941608,
          0.1783057243941608,
          0.1783057243941608,
          0.1783057243941608,
          0.1783057243941608,
          0.1783057243941608,
          0.1783057243941608,
          0.1783057243941608,
          0.1783057243941608,
          0.1783057243941608,
          0.1783057243941608,
          0.1783057243941608,
          0.1783057243941608,
          0.1783057243941608,
          0.1783057243941608,
          0.1783057243941608,
          0.1783057243941608,
          0.1783057243941608,
          0.1783057243941608,
          0.1783057243941608,
          0.1783057243941608,
          0.1783057243941608,
          0.1783057243941608,
          0.1783057243941608,
          0.1783057243941608,
          0.1783057243941608,
          0.1783057243941608,
          0.1783057243941608,
          0.1783057243941608,
          0.1783057243941608,
          0.1783057243941608,
          0.1783057243941608,
          0.1783057243941608,
          0.1783057243941608,
          0.1783057243941608,
          0.1783057243941608,
          0.1783057243941608,
          0.1783057243941608,
          0.1783057243941608,
          0.1783057243941608,
          0.1783057243941608,
          0.1783057243941608,
          0.1783057243941608,
          0.1783057243941608,
          0.1783057243941608,
          0.1783057243941608,
          0.1783057243941608,
          0.1783057243941608,
          0.17857276796329838,
          0.17857276796329838,
          0.17857276796329838,
          0.18846986178352368,
          0.18846986178352368,
          0.18846986178352368,
          0.18846986178352368,
          0.18846986178352368,
          0.18846986178352368,
          0.18846986178352368,
          0.18846986178352368,
          0.20717908639355556,
          0.20717908639355556,
          0.20717908639355556,
          0.20717908639355556,
          0.20717908639355556,
          0.20717908639355556,
          0.20717908639355556,
          0.20717908639355556,
          0.20717908639355556,
          0.20717908639355556,
          0.20717908639355556,
          0.20717908639355556,
          0.20717908639355556,
          0.20717908639355556,
          0.20717908639355556,
          0.20717908639355556,
          0.20717908639355556,
          0.20717908639355556,
          0.20717908639355556,
          0.20717908639355556,
          0.20717908639355556,
          0.20717908639355556,
          0.20717908639355556,
          0.20717908639355556,
          0.20717908639355556,
          0.20717908639355556,
          0.20717908639355556,
          0.20717908639355556,
          0.20717908639355556,
          0.20717908639355556,
          0.20717908639355556,
          0.20717908639355556,
          0.20717908639355556,
          0.20717908639355556,
          0.20717908639355556,
          0.20717908639355556,
          0.20717908639355556,
          0.20717908639355556,
          0.20717908639355556,
          0.20717908639355556,
          0.20717908639355556,
          0.20717908639355556,
          0.20717908639355556,
          0.20717908639355556,
          0.20717908639355556,
          0.20717908639355556,
          0.20717908639355556,
          0.20717908639355556,
          0.20717908639355556,
          0.20717908639355556,
          0.20717908639355556,
          0.20717908639355556,
          0.20717908639355556,
          0.20717908639355556,
          0.20717908639355556,
          0.20717908639355556,
          0.20717908639355556,
          0.20717908639355556,
          0.20717908639355556,
          0.20717908639355556,
          0.20717908639355556,
          0.20717908639355556,
          0.20717908639355556,
          0.20717908639355556,
          0.20717908639355556,
          0.20717908639355556,
          0.20717908639355556,
          0.20717908639355556,
          0.20717908639355556,
          0.20717908639355556,
          0.20717908639355556,
          0.20717908639355556,
          0.20717908639355556,
          0.20717908639355556,
          0.20717908639355556,
          0.20717908639355556,
          0.20717908639355556,
          0.20717908639355556,
          0.20717908639355556,
          0.20717908639355556,
          0.20717908639355556,
          0.20717908639355556,
          0.20717908639355556,
          0.20717908639355556,
          0.20717908639355556,
          0.20717908639355556,
          0.20717908639355556,
          0.20717908639355556,
          0.20717908639355556,
          0.20717908639355556,
          0.20717908639355556,
          0.20717908639355556,
          0.20717908639355556,
          0.20717908639355556,
          0.20717908639355556,
          0.20717908639355556,
          0.20717908639355556,
          0.20717908639355556,
          0.20717908639355556,
          0.20717908639355556,
          0.20717908639355556,
          0.20717908639355556,
          0.20717908639355556,
          0.20717908639355556,
          0.20717908639355556,
          0.20717908639355556,
          0.20717908639355556,
          0.20717908639355556,
          0.20717908639355556,
          0.20717908639355556,
          0.20717908639355556,
          0.20717908639355556,
          0.20717908639355556,
          0.20717908639355556,
          0.20717908639355556,
          0.20717908639355556,
          0.20717908639355556,
          0.20717908639355556,
          0.20717908639355556,
          0.20717908639355556,
          0.20717908639355556,
          0.20717908639355556,
          0.20717908639355556,
          0.20717908639355556,
          0.20717908639355556,
          0.20717908639355556,
          0.20717908639355556,
          0.20717908639355556,
          0.20717908639355556,
          0.20717908639355556,
          0.20717908639355556,
          0.20717908639355556,
          0.20717908639355556,
          0.20717908639355556,
          0.20717908639355556,
          0.20717908639355556,
          0.20717908639355556,
          0.20717908639355556,
          0.20717908639355556,
          0.20717908639355556,
          0.20717908639355556,
          0.20717908639355556,
          0.20717908639355556,
          0.20717908639355556,
          0.20717908639355556,
          0.20717908639355556,
          0.20717908639355556,
          0.20717908639355556,
          0.20717908639355556,
          0.20717908639355556,
          0.20717908639355556,
          0.20717908639355556,
          0.20717908639355556,
          0.20717908639355556,
          0.20717908639355556,
          0.20717908639355556,
          0.20717908639355556,
          0.20717908639355556,
          0.20717908639355556,
          0.20717908639355556,
          0.20717908639355556,
          0.20717908639355556,
          0.20717908639355556,
          0.20717908639355556,
          0.20717908639355556,
          0.20717908639355556,
          0.20717908639355556,
          0.20717908639355556,
          0.20717908639355556,
          0.20717908639355556,
          0.20717908639355556,
          0.20717908639355556,
          0.20717908639355556,
          0.20717908639355556,
          0.20717908639355556,
          0.20717908639355556,
          0.20717908639355556,
          0.20717908639355556,
          0.20717908639355556,
          0.20717908639355556,
          0.20717908639355556,
          0.20717908639355556,
          0.20717908639355556,
          0.20717908639355556,
          0.20717908639355556,
          0.20717908639355556,
          0.20717908639355556,
          0.20717908639355556,
          0.20717908639355556,
          0.20717908639355556,
          0.20717908639355556,
          0.20717908639355556,
          0.20717908639355556,
          0.20717908639355556,
          0.20717908639355556,
          0.20717908639355556,
          0.20717908639355556,
          0.20717908639355556,
          0.20717908639355556,
          0.20717908639355556,
          0.20717908639355556,
          0.20717908639355556,
          0.20717908639355556,
          0.20717908639355556,
          0.20717908639355556,
          0.20717908639355556,
          0.20717908639355556,
          0.20717908639355556,
          0.20717908639355556,
          0.20717908639355556,
          0.20717908639355556,
          0.20717908639355556,
          0.20717908639355556,
          0.20717908639355556,
          0.20717908639355556,
          0.20717908639355556,
          0.20717908639355556,
          0.20717908639355556,
          0.20717908639355556,
          0.20717908639355556,
          0.20717908639355556,
          0.20717908639355556,
          0.20717908639355556,
          0.20717908639355556,
          0.20717908639355556,
          0.20717908639355556,
          0.20717908639355556,
          0.20717908639355556,
          0.20717908639355556,
          0.20717908639355556,
          0.20717908639355556,
          0.20717908639355556,
          0.20717908639355556,
          0.20717908639355556,
          0.20717908639355556,
          0.20717908639355556,
          0.20717908639355556,
          0.20717908639355556,
          0.20717908639355556,
          0.20717908639355556,
          0.20717908639355556,
          0.20717908639355556,
          0.20717908639355556,
          0.20717908639355556,
          0.20717908639355556,
          0.20717908639355556,
          0.20717908639355556,
          0.20717908639355556,
          0.20717908639355556,
          0.20717908639355556,
          0.20717908639355556,
          0.20717908639355556,
          0.20717908639355556,
          0.20717908639355556,
          0.20717908639355556,
          0.20717908639355556,
          0.20717908639355556,
          0.20717908639355556,
          0.20717908639355556,
          0.20717908639355556,
          0.20717908639355556,
          0.20717908639355556,
          0.20717908639355556,
          0.20717908639355556,
          0.20717908639355556,
          0.20717908639355556,
          0.20717908639355556,
          0.20717908639355556,
          0.20717908639355556,
          0.20717908639355556,
          0.20717908639355556,
          0.20717908639355556,
          0.20717908639355556,
          0.20717908639355556,
          0.20717908639355556,
          0.20717908639355556,
          0.20717908639355556,
          0.20717908639355556,
          0.20717908639355556,
          0.20717908639355556,
          0.20717908639355556,
          0.20717908639355556,
          0.20717908639355556,
          0.20717908639355556,
          0.20717908639355556,
          0.20717908639355556,
          0.20717908639355556,
          0.20717908639355556,
          0.20717908639355556,
          0.20717908639355556,
          0.20717908639355556,
          0.20717908639355556,
          0.20717908639355556,
          0.20717908639355556,
          0.20717908639355556,
          0.20717908639355556,
          0.20717908639355556,
          0.20717908639355556,
          0.20717908639355556,
          0.20717908639355556,
          0.20717908639355556,
          0.20717908639355556,
          0.20717908639355556,
          0.20717908639355556,
          0.20717908639355556,
          0.20717908639355556,
          0.20717908639355556,
          0.20717908639355556
         ]
        }
       ],
       "layout": {
        "template": {
         "data": {
          "bar": [
           {
            "error_x": {
             "color": "#2a3f5f"
            },
            "error_y": {
             "color": "#2a3f5f"
            },
            "marker": {
             "line": {
              "color": "#E5ECF6",
              "width": 0.5
             },
             "pattern": {
              "fillmode": "overlay",
              "size": 10,
              "solidity": 0.2
             }
            },
            "type": "bar"
           }
          ],
          "barpolar": [
           {
            "marker": {
             "line": {
              "color": "#E5ECF6",
              "width": 0.5
             },
             "pattern": {
              "fillmode": "overlay",
              "size": 10,
              "solidity": 0.2
             }
            },
            "type": "barpolar"
           }
          ],
          "carpet": [
           {
            "aaxis": {
             "endlinecolor": "#2a3f5f",
             "gridcolor": "white",
             "linecolor": "white",
             "minorgridcolor": "white",
             "startlinecolor": "#2a3f5f"
            },
            "baxis": {
             "endlinecolor": "#2a3f5f",
             "gridcolor": "white",
             "linecolor": "white",
             "minorgridcolor": "white",
             "startlinecolor": "#2a3f5f"
            },
            "type": "carpet"
           }
          ],
          "choropleth": [
           {
            "colorbar": {
             "outlinewidth": 0,
             "ticks": ""
            },
            "type": "choropleth"
           }
          ],
          "contour": [
           {
            "colorbar": {
             "outlinewidth": 0,
             "ticks": ""
            },
            "colorscale": [
             [
              0,
              "#0d0887"
             ],
             [
              0.1111111111111111,
              "#46039f"
             ],
             [
              0.2222222222222222,
              "#7201a8"
             ],
             [
              0.3333333333333333,
              "#9c179e"
             ],
             [
              0.4444444444444444,
              "#bd3786"
             ],
             [
              0.5555555555555556,
              "#d8576b"
             ],
             [
              0.6666666666666666,
              "#ed7953"
             ],
             [
              0.7777777777777778,
              "#fb9f3a"
             ],
             [
              0.8888888888888888,
              "#fdca26"
             ],
             [
              1,
              "#f0f921"
             ]
            ],
            "type": "contour"
           }
          ],
          "contourcarpet": [
           {
            "colorbar": {
             "outlinewidth": 0,
             "ticks": ""
            },
            "type": "contourcarpet"
           }
          ],
          "heatmap": [
           {
            "colorbar": {
             "outlinewidth": 0,
             "ticks": ""
            },
            "colorscale": [
             [
              0,
              "#0d0887"
             ],
             [
              0.1111111111111111,
              "#46039f"
             ],
             [
              0.2222222222222222,
              "#7201a8"
             ],
             [
              0.3333333333333333,
              "#9c179e"
             ],
             [
              0.4444444444444444,
              "#bd3786"
             ],
             [
              0.5555555555555556,
              "#d8576b"
             ],
             [
              0.6666666666666666,
              "#ed7953"
             ],
             [
              0.7777777777777778,
              "#fb9f3a"
             ],
             [
              0.8888888888888888,
              "#fdca26"
             ],
             [
              1,
              "#f0f921"
             ]
            ],
            "type": "heatmap"
           }
          ],
          "heatmapgl": [
           {
            "colorbar": {
             "outlinewidth": 0,
             "ticks": ""
            },
            "colorscale": [
             [
              0,
              "#0d0887"
             ],
             [
              0.1111111111111111,
              "#46039f"
             ],
             [
              0.2222222222222222,
              "#7201a8"
             ],
             [
              0.3333333333333333,
              "#9c179e"
             ],
             [
              0.4444444444444444,
              "#bd3786"
             ],
             [
              0.5555555555555556,
              "#d8576b"
             ],
             [
              0.6666666666666666,
              "#ed7953"
             ],
             [
              0.7777777777777778,
              "#fb9f3a"
             ],
             [
              0.8888888888888888,
              "#fdca26"
             ],
             [
              1,
              "#f0f921"
             ]
            ],
            "type": "heatmapgl"
           }
          ],
          "histogram": [
           {
            "marker": {
             "pattern": {
              "fillmode": "overlay",
              "size": 10,
              "solidity": 0.2
             }
            },
            "type": "histogram"
           }
          ],
          "histogram2d": [
           {
            "colorbar": {
             "outlinewidth": 0,
             "ticks": ""
            },
            "colorscale": [
             [
              0,
              "#0d0887"
             ],
             [
              0.1111111111111111,
              "#46039f"
             ],
             [
              0.2222222222222222,
              "#7201a8"
             ],
             [
              0.3333333333333333,
              "#9c179e"
             ],
             [
              0.4444444444444444,
              "#bd3786"
             ],
             [
              0.5555555555555556,
              "#d8576b"
             ],
             [
              0.6666666666666666,
              "#ed7953"
             ],
             [
              0.7777777777777778,
              "#fb9f3a"
             ],
             [
              0.8888888888888888,
              "#fdca26"
             ],
             [
              1,
              "#f0f921"
             ]
            ],
            "type": "histogram2d"
           }
          ],
          "histogram2dcontour": [
           {
            "colorbar": {
             "outlinewidth": 0,
             "ticks": ""
            },
            "colorscale": [
             [
              0,
              "#0d0887"
             ],
             [
              0.1111111111111111,
              "#46039f"
             ],
             [
              0.2222222222222222,
              "#7201a8"
             ],
             [
              0.3333333333333333,
              "#9c179e"
             ],
             [
              0.4444444444444444,
              "#bd3786"
             ],
             [
              0.5555555555555556,
              "#d8576b"
             ],
             [
              0.6666666666666666,
              "#ed7953"
             ],
             [
              0.7777777777777778,
              "#fb9f3a"
             ],
             [
              0.8888888888888888,
              "#fdca26"
             ],
             [
              1,
              "#f0f921"
             ]
            ],
            "type": "histogram2dcontour"
           }
          ],
          "mesh3d": [
           {
            "colorbar": {
             "outlinewidth": 0,
             "ticks": ""
            },
            "type": "mesh3d"
           }
          ],
          "parcoords": [
           {
            "line": {
             "colorbar": {
              "outlinewidth": 0,
              "ticks": ""
             }
            },
            "type": "parcoords"
           }
          ],
          "pie": [
           {
            "automargin": true,
            "type": "pie"
           }
          ],
          "scatter": [
           {
            "fillpattern": {
             "fillmode": "overlay",
             "size": 10,
             "solidity": 0.2
            },
            "type": "scatter"
           }
          ],
          "scatter3d": [
           {
            "line": {
             "colorbar": {
              "outlinewidth": 0,
              "ticks": ""
             }
            },
            "marker": {
             "colorbar": {
              "outlinewidth": 0,
              "ticks": ""
             }
            },
            "type": "scatter3d"
           }
          ],
          "scattercarpet": [
           {
            "marker": {
             "colorbar": {
              "outlinewidth": 0,
              "ticks": ""
             }
            },
            "type": "scattercarpet"
           }
          ],
          "scattergeo": [
           {
            "marker": {
             "colorbar": {
              "outlinewidth": 0,
              "ticks": ""
             }
            },
            "type": "scattergeo"
           }
          ],
          "scattergl": [
           {
            "marker": {
             "colorbar": {
              "outlinewidth": 0,
              "ticks": ""
             }
            },
            "type": "scattergl"
           }
          ],
          "scattermapbox": [
           {
            "marker": {
             "colorbar": {
              "outlinewidth": 0,
              "ticks": ""
             }
            },
            "type": "scattermapbox"
           }
          ],
          "scatterpolar": [
           {
            "marker": {
             "colorbar": {
              "outlinewidth": 0,
              "ticks": ""
             }
            },
            "type": "scatterpolar"
           }
          ],
          "scatterpolargl": [
           {
            "marker": {
             "colorbar": {
              "outlinewidth": 0,
              "ticks": ""
             }
            },
            "type": "scatterpolargl"
           }
          ],
          "scatterternary": [
           {
            "marker": {
             "colorbar": {
              "outlinewidth": 0,
              "ticks": ""
             }
            },
            "type": "scatterternary"
           }
          ],
          "surface": [
           {
            "colorbar": {
             "outlinewidth": 0,
             "ticks": ""
            },
            "colorscale": [
             [
              0,
              "#0d0887"
             ],
             [
              0.1111111111111111,
              "#46039f"
             ],
             [
              0.2222222222222222,
              "#7201a8"
             ],
             [
              0.3333333333333333,
              "#9c179e"
             ],
             [
              0.4444444444444444,
              "#bd3786"
             ],
             [
              0.5555555555555556,
              "#d8576b"
             ],
             [
              0.6666666666666666,
              "#ed7953"
             ],
             [
              0.7777777777777778,
              "#fb9f3a"
             ],
             [
              0.8888888888888888,
              "#fdca26"
             ],
             [
              1,
              "#f0f921"
             ]
            ],
            "type": "surface"
           }
          ],
          "table": [
           {
            "cells": {
             "fill": {
              "color": "#EBF0F8"
             },
             "line": {
              "color": "white"
             }
            },
            "header": {
             "fill": {
              "color": "#C8D4E3"
             },
             "line": {
              "color": "white"
             }
            },
            "type": "table"
           }
          ]
         },
         "layout": {
          "annotationdefaults": {
           "arrowcolor": "#2a3f5f",
           "arrowhead": 0,
           "arrowwidth": 1
          },
          "autotypenumbers": "strict",
          "coloraxis": {
           "colorbar": {
            "outlinewidth": 0,
            "ticks": ""
           }
          },
          "colorscale": {
           "diverging": [
            [
             0,
             "#8e0152"
            ],
            [
             0.1,
             "#c51b7d"
            ],
            [
             0.2,
             "#de77ae"
            ],
            [
             0.3,
             "#f1b6da"
            ],
            [
             0.4,
             "#fde0ef"
            ],
            [
             0.5,
             "#f7f7f7"
            ],
            [
             0.6,
             "#e6f5d0"
            ],
            [
             0.7,
             "#b8e186"
            ],
            [
             0.8,
             "#7fbc41"
            ],
            [
             0.9,
             "#4d9221"
            ],
            [
             1,
             "#276419"
            ]
           ],
           "sequential": [
            [
             0,
             "#0d0887"
            ],
            [
             0.1111111111111111,
             "#46039f"
            ],
            [
             0.2222222222222222,
             "#7201a8"
            ],
            [
             0.3333333333333333,
             "#9c179e"
            ],
            [
             0.4444444444444444,
             "#bd3786"
            ],
            [
             0.5555555555555556,
             "#d8576b"
            ],
            [
             0.6666666666666666,
             "#ed7953"
            ],
            [
             0.7777777777777778,
             "#fb9f3a"
            ],
            [
             0.8888888888888888,
             "#fdca26"
            ],
            [
             1,
             "#f0f921"
            ]
           ],
           "sequentialminus": [
            [
             0,
             "#0d0887"
            ],
            [
             0.1111111111111111,
             "#46039f"
            ],
            [
             0.2222222222222222,
             "#7201a8"
            ],
            [
             0.3333333333333333,
             "#9c179e"
            ],
            [
             0.4444444444444444,
             "#bd3786"
            ],
            [
             0.5555555555555556,
             "#d8576b"
            ],
            [
             0.6666666666666666,
             "#ed7953"
            ],
            [
             0.7777777777777778,
             "#fb9f3a"
            ],
            [
             0.8888888888888888,
             "#fdca26"
            ],
            [
             1,
             "#f0f921"
            ]
           ]
          },
          "colorway": [
           "#636efa",
           "#EF553B",
           "#00cc96",
           "#ab63fa",
           "#FFA15A",
           "#19d3f3",
           "#FF6692",
           "#B6E880",
           "#FF97FF",
           "#FECB52"
          ],
          "font": {
           "color": "#2a3f5f"
          },
          "geo": {
           "bgcolor": "white",
           "lakecolor": "white",
           "landcolor": "#E5ECF6",
           "showlakes": true,
           "showland": true,
           "subunitcolor": "white"
          },
          "hoverlabel": {
           "align": "left"
          },
          "hovermode": "closest",
          "mapbox": {
           "style": "light"
          },
          "paper_bgcolor": "white",
          "plot_bgcolor": "#E5ECF6",
          "polar": {
           "angularaxis": {
            "gridcolor": "white",
            "linecolor": "white",
            "ticks": ""
           },
           "bgcolor": "#E5ECF6",
           "radialaxis": {
            "gridcolor": "white",
            "linecolor": "white",
            "ticks": ""
           }
          },
          "scene": {
           "xaxis": {
            "backgroundcolor": "#E5ECF6",
            "gridcolor": "white",
            "gridwidth": 2,
            "linecolor": "white",
            "showbackground": true,
            "ticks": "",
            "zerolinecolor": "white"
           },
           "yaxis": {
            "backgroundcolor": "#E5ECF6",
            "gridcolor": "white",
            "gridwidth": 2,
            "linecolor": "white",
            "showbackground": true,
            "ticks": "",
            "zerolinecolor": "white"
           },
           "zaxis": {
            "backgroundcolor": "#E5ECF6",
            "gridcolor": "white",
            "gridwidth": 2,
            "linecolor": "white",
            "showbackground": true,
            "ticks": "",
            "zerolinecolor": "white"
           }
          },
          "shapedefaults": {
           "line": {
            "color": "#2a3f5f"
           }
          },
          "ternary": {
           "aaxis": {
            "gridcolor": "white",
            "linecolor": "white",
            "ticks": ""
           },
           "baxis": {
            "gridcolor": "white",
            "linecolor": "white",
            "ticks": ""
           },
           "bgcolor": "#E5ECF6",
           "caxis": {
            "gridcolor": "white",
            "linecolor": "white",
            "ticks": ""
           }
          },
          "title": {
           "x": 0.05
          },
          "xaxis": {
           "automargin": true,
           "gridcolor": "white",
           "linecolor": "white",
           "ticks": "",
           "title": {
            "standoff": 15
           },
           "zerolinecolor": "white",
           "zerolinewidth": 2
          },
          "yaxis": {
           "automargin": true,
           "gridcolor": "white",
           "linecolor": "white",
           "ticks": "",
           "title": {
            "standoff": 15
           },
           "zerolinecolor": "white",
           "zerolinewidth": 2
          }
         }
        },
        "title": {
         "text": "Optimization History Plot"
        },
        "xaxis": {
         "title": {
          "text": "Trial"
         }
        },
        "yaxis": {
         "title": {
          "text": "Objective Value"
         }
        }
       }
      },
      "text/html": [
       "<div>                            <div id=\"664e9534-6f4d-48fd-901b-091346f845e9\" class=\"plotly-graph-div\" style=\"height:525px; width:100%;\"></div>            <script type=\"text/javascript\">                require([\"plotly\"], function(Plotly) {                    window.PLOTLYENV=window.PLOTLYENV || {};                                    if (document.getElementById(\"664e9534-6f4d-48fd-901b-091346f845e9\")) {                    Plotly.newPlot(                        \"664e9534-6f4d-48fd-901b-091346f845e9\",                        [{\"mode\":\"markers\",\"name\":\"Objective Value\",\"x\":[0,1,2,3,4,5,6,7,8,9,10,11,12,13,14,15,16,17,18,19,20,21,22,23,24,25,26,27,28,29,30,31,32,33,34,35,36,37,38,39,40,41,42,43,44,45,46,47,48,49,50,51,52,53,54,55,56,57,58,59,60,61,62,63,64,65,66,67,68,69,70,71,72,73,74,75,76,77,78,79,80,81,82,83,84,85,86,87,88,89,90,91,92,93,94,95,96,97,98,99,100,101,102,103,104,105,106,107,108,109,110,111,112,113,114,115,116,117,118,119,120,121,122,123,124,125,126,127,128,129,130,131,132,133,134,135,136,137,138,139,140,141,142,143,144,145,146,147,148,149,150,151,152,153,154,155,156,157,158,159,160,161,162,163,164,165,166,167,168,169,170,171,172,173,174,175,176,177,178,179,180,181,182,183,184,185,186,187,188,189,190,191,192,193,194,195,196,197,198,199,200,201,202,203,204,205,206,207,208,209,210,211,212,213,214,215,216,217,218,219,220,221,222,223,224,225,226,227,228,229,230,231,232,233,234,235,236,237,238,239,240,241,242,243,244,245,246,247,248,249,250,251,252,253,254,255,256,257,258,259,260,261,262,263,264,265,266,267,268,269,270,271,272,273,274,275,276,277,278,279,280,281,282,283,284,285,286,287,288,289,290,291,292,293,294,295,296,297,298,299,300,301,302,303,304,305,306,307,308,309,310,311,312,313,314,315,316,317,318,319,320,321,322,323,324,325,326,327,328,329,330,331,332,333,334,335,336,337,338,339,340,341,342,343,344,345,346,347,348,349,350,351,352,353,354,355,356,357,358,359,360,361,362,363,364,365,366,367,368,369,370,371,372,373,374,375,376,377,378,379,380,381,382,383,384,385,386,387,388,389,390,391,392,393,394,395,396,397,398,399,400,401,402,403,404,405,406,407,408,409,410,411,412,413,414,415,416,417,418,419,420,421,422,423,424,425,426,427,428,429,430,431,432,433,434,435,436,437,438,439,440,441,442,443,444,445,446,447,448,449,450,451,452,453,454,455,456,457,458,459,460,461,462,463,464,465,466,467,468,469,470,471,472,473,474,475,476,477,478,479,480,481,482,483,484,485,486,487,488,489,490,491,492,493,494,495,496,497,498,499],\"y\":[0.025661993901366646,0.025655652152333827,0.02565576892197986,0.02565600264869637,0.025659536328166987,0.02565235875379861,0.08186765047669704,0.025654969670228994,0.025652321114011608,0.12732882011662303,0.02565268326659784,0.11672483595417844,0.11618970770811353,0.11184155318283805,0.1258776336591698,0.1246519739087299,0.09813615347889632,0.1427215645508988,0.025655236920402308,0.14091054344695494,0.10548633393465694,0.13010120330829858,0.14167755063790843,0.17243823467514943,0.12972265384789938,0.10317845387088165,0.1335956028348724,0.05791388768197461,0.12912189423016698,0.025655088818107786,0.13774306683661844,0.13609508166291676,0.13531135810740808,0.13984202814201063,0.10991939213036302,0.13750382627667201,0.11347318871829165,0.1295612254678914,0.13470225415100487,0.13736665399057932,0.10204719497445142,0.13142551664222266,0.09529458306824064,0.1349549347686491,0.136572006017804,0.1353438743733623,0.13561132086869665,0.1630379054316457,0.12418361833105805,0.12255298219808558,0.1281347778313442,0.13867888493403088,0.13016099421120067,0.1415757974787238,0.1313976090460198,0.13002510246304855,0.12519865469855426,0.13715983672802248,0.1426377802116229,0.15230255628033584,0.14133675066372398,0.13973829313626426,0.12336186194100358,0.12170357971436523,0.13000575869732597,0.11831351221470617,0.13956946023501154,0.13344940856128798,0.1263658677387454,0.12676177199779703,0.12630907448861597,0.13497946818015694,0.13575363169796206,0.1511866292523367,0.13822757566815394,0.13898078346854845,0.13766593217809642,0.14150124666757877,0.14210620187657882,0.13207006228802526,0.14088733830353667,0.15156564382225032,0.1783057243941608,0.12593904286778726,0.12601369444018629,0.133758230810997,0.13228737429013981,0.12365092962976569,0.13325005916342,0.13010472761315994,0.14300436290842236,0.13801632107039472,0.14181842488893873,0.1301811869128042,0.13547248976002965,0.13419599618016895,0.13210335964740155,0.13393034242642438,0.1464285474982439,0.14084628130227392,0.13845828702068438,0.14011381305208845,0.14062124596532258,0.12418201298298075,0.13601045673793763,0.13248002449723345,0.1427118801064838,0.13207527720378856,0.1371205466998131,0.14617024809277768,0.12523294644349356,0.1430905902836103,0.14280488402823713,0.1466631351006327,0.13652522217969632,0.13380595107781657,0.15568120418641404,0.14057403398593585,0.13633329500896588,0.1366078222952175,0.14307365813517234,0.13666722091464253,0.13203290682988758,0.13753422221112113,0.13935690240013385,0.13612173482937875,0.1386718352666668,0.14532809318331286,0.11495099106516092,0.11708780825350378,0.1720251961065906,0.14248552653014113,0.1591778878033487,0.13690250566307086,0.13552959773377773,0.14645136655873023,0.1359051590794181,0.1360671289271288,0.13463903330775237,0.13336286259651797,0.12649464826280368,0.13185755024629242,0.14536655384074929,0.14978784538842815,0.14181076342772286,0.13695929657763387,0.1508544436943521,0.1369820306546187,0.156949880257411,0.15264027983825815,0.14063591554979651,0.13824440100357352,0.13569426910282154,0.13269758533761003,0.13372840529963592,0.15157493721581733,0.134312734648635,0.1306197100642902,0.13782310143232235,0.1100167679137994,0.1311285701778703,0.12883585736603734,0.14340847777316787,0.14108028862375646,0.15366828768168617,0.13671983682890917,0.1398283414634035,0.13233560404863118,0.14057525165417228,0.13161549664217262,0.1376081463618087,0.1438558774434352,0.05797260263740839,0.16889926686975,0.11036017059497927,0.1368477903228524,0.13082564528827548,0.12768601739791133,0.14336181977786677,0.12979152052254253,0.0893629187350856,0.17857276796329838,0.13557941220807965,0.14701048039439973,0.18846986178352368,0.13814636313473347,0.13996023418228745,0.1390007414897452,0.13388692580724007,0.12963099445043,0.14567329141038146,0.14469013198969968,0.20717908639355556,0.1356850509750133,0.02565962002238234,0.09734056945213104,0.1193346042238372,0.14558224778936787,0.025656978262736104,0.14292187403846188,0.13856462338011846,0.1331360289532212,0.12503104648698257,0.15233823513822006,0.1256253818350452,0.15085152561841889,0.12287892793494008,0.11386481146931308,0.1106379268978578,0.13326858136489067,0.1469096098986196,0.13543356380004534,0.13983669776590615,0.10275867288524602,0.13621683824782652,0.1321186643395754,0.13882724412244396,0.12385436738051636,0.1307765859119416,0.13532712816252354,0.11749034622965021,0.1339219297509263,0.14616673000623773,0.13195615824694942,0.1042377065078171,0.14013129854301637,0.10330833848189876,0.1357205669080674,0.14036471335576148,0.025660049108710715,0.12772548780812235,0.13616794999633056,0.14059670234730215,0.1420562866226399,0.10292003888977062,0.13944136990059378,0.16892232008401942,0.1451098670172207,0.12427711023000564,0.14004975662443486,0.11411840850314466,0.13927616424026526,0.13244215977487997,0.025656489603127382,0.13750502896305986,0.025656745963000188,0.12731777106424166,0.13904230253452124,0.13712356208732282,0.13607483554333558,0.13347319220433362,0.11386944192933174,0.0838264502331441,0.14694482475135812,0.13784000592333578,0.1281123989608781,0.0256584428419749,0.14148418451131553,0.14623738674479356,0.10897236340631566,0.09654647967852607,0.13290381743496127,0.13599907800877006,0.13650804534902586,0.1314130659045158,0.09899398751562154,0.1446029598199042,0.1494381149127065,0.13287205342199096,0.17118427806088024,0.14394074503908705,0.12445516009030301,0.1287643816671337,0.12357210756145416,0.11511473978212063,0.15099745408029056,0.13902987869376882,0.11764997055504005,0.09854210887269171,0.129622773468605,0.10948620820586141,0.025656698099776953,0.13431790169028732,0.09596491060914923,0.12894556379661018,0.13420451604948944,0.14027072314466968,0.1062703418278634,0.0256534217960552,0.11602496611965252,0.13471673817807953,0.11968253404121047,0.02566192295176828,0.1365737195533168,0.09691155679182384,0.1369408626302875,0.13116997438811462,0.10017684649856294,0.13670628888198436,0.1310795439251143,0.13523181381303037,0.1408491546529447,0.12016808594943064,0.138125191206963,0.13981574775757935,0.1060910266476311,0.1366362766382573,0.1362349630273445,0.12933764906459344,0.1081288948908497,0.1502352741952582,0.13667213751062293,0.13159418861660535,0.13049396139467542,0.1480026644303604,0.02565788232012191,0.12736225366574136,0.12735761747584673,0.14624032795196262,0.11257596861812437,0.12282807293290125,0.13513093267143247,0.14723157667736225,0.13405534154793894,0.11013497875214041,0.11869233286335588,0.13219204672560012,0.14837829730723281,0.12796634797031883,0.1256047753665386,0.025659213870762972,0.12987604880351514,0.13980148696079261,0.11437153873513577,0.11494033978447506,0.02566150325931781,0.025653933479824587,0.1418403745369012,0.11845925705175946,0.13349317767834334,0.13293167249847396,0.12795783410204783,0.025652546992074126,0.16357054964720638,0.14564997071489091,0.142693831975262,0.1039429911268115,0.13841522234839973,0.08916429001169918,0.10061829551080868,0.025658055917700224,0.1270284807250609,0.02566082499503193,0.02565203916450939,0.13635083258336214,0.11714166221450072,0.12283032636499153,0.02566008753169857,0.1401533927715912,0.12938043309905797,0.1246198073297727,0.02565341400892655,0.0256589503440456,0.1380075078081777,0.10091804298089217,0.09984797971733302,0.025655996671557862,0.13473693530670847,0.13441268955662222,0.13361769229585502,0.08548805841090411,0.1416580036775571,0.15586158758093435,0.15120228790086218,0.14350326008804792,0.1344446690525255,0.1352521804754315,0.1400824672578333,0.14643624637113825,0.09907588156956355,0.13751060116875477,0.13624432571056047,0.02565881388752274,0.13761347051230155,0.13841484653145683,0.07633142863879089,0.11365201136718066,0.09901682033179326,0.1444155749029479,0.1510152681157281,0.13763459089851712,0.025655363952815733,0.025658411469327458,0.13684960682019098,0.137740795958944,0.13495884031013808,0.142377393712449,0.15085994800749794,0.13077221904764388,0.1315922851410351,0.025658004052781975,0.1295499863950175,0.138448349797609,0.12877289293331573,0.13836682062081704,0.025657191244734007,0.1337570716436654,0.1818252206153752,0.13657317868799498,0.025665024655276505,0.12512523006015017,0.02565734628363131,0.13190550053523392,0.10473781414790596,0.11804317884326394,0.12320165551548345,0.025658465163883693,0.0256554132710399,0.15120112837490246,0.025652837850231775,0.025660236203551946,0.025655557522336656,0.10529704909381117,0.10116218884636995,0.13181715320317378,0.13229329940163698,0.025657511530707475,0.13203252736429086,0.13736687450944723,0.0920681617861596,0.11880196679532361,0.12886879629531708,0.1401835410033121,0.025658337197410824,0.1311165305034574,0.12915440586056356,0.1491073985367671,0.18515528787213584,0.11645040222742119,0.13489131307126132,0.14466221233843948,0.02565601671038759,0.025662114015354554,0.13885336204658424,0.02565896563835181,0.14573520912819615,0.133146425038544,0.12447516588714937,0.02565695148470878,0.10431997600525361,0.10692726171111044,0.1413653558133564,0.15584133286070181,0.13075059493812985,0.11708293397096882,0.13860073156223485,0.0881396417464149,0.1060450359914189,0.10190119508986663,0.1507187548106342,0.13688547227448647,0.14017027954532013,0.12732146453966284,0.02565839966845848,0.025655566186337048,0.025655498788136194,0.02565811718915738,0.0643339839381576,0.07894282184355819,0.025653341483636013,0.13827340176674321,0.1399175754224,0.12311497020237135,0.11938883050619799,0.10124652547548928,0.11758865770603387,0.02565583346166822,0.025658576375389947,0.025655382009035808,0.14672764708732727,0.025658047826587007,0.025659189984699533,0.02565263326354809,0.13259536558720575,0.08711641211263506,0.0946524693011182,0.12553179419655738,0.14589363591859936,0.1024732068912327,0.13964352563761082,0.14488302171347442,0.15030829836855314,0.025657875662631488,0.025658242395883282,0.02565579370017734,0.02565544658042898,0.1277013806901987,0.15696881022464212,0.13365594002449885,0.13418178470763922],\"type\":\"scatter\"},{\"name\":\"Best Value\",\"x\":[0,1,2,3,4,5,6,7,8,9,10,11,12,13,14,15,16,17,18,19,20,21,22,23,24,25,26,27,28,29,30,31,32,33,34,35,36,37,38,39,40,41,42,43,44,45,46,47,48,49,50,51,52,53,54,55,56,57,58,59,60,61,62,63,64,65,66,67,68,69,70,71,72,73,74,75,76,77,78,79,80,81,82,83,84,85,86,87,88,89,90,91,92,93,94,95,96,97,98,99,100,101,102,103,104,105,106,107,108,109,110,111,112,113,114,115,116,117,118,119,120,121,122,123,124,125,126,127,128,129,130,131,132,133,134,135,136,137,138,139,140,141,142,143,144,145,146,147,148,149,150,151,152,153,154,155,156,157,158,159,160,161,162,163,164,165,166,167,168,169,170,171,172,173,174,175,176,177,178,179,180,181,182,183,184,185,186,187,188,189,190,191,192,193,194,195,196,197,198,199,200,201,202,203,204,205,206,207,208,209,210,211,212,213,214,215,216,217,218,219,220,221,222,223,224,225,226,227,228,229,230,231,232,233,234,235,236,237,238,239,240,241,242,243,244,245,246,247,248,249,250,251,252,253,254,255,256,257,258,259,260,261,262,263,264,265,266,267,268,269,270,271,272,273,274,275,276,277,278,279,280,281,282,283,284,285,286,287,288,289,290,291,292,293,294,295,296,297,298,299,300,301,302,303,304,305,306,307,308,309,310,311,312,313,314,315,316,317,318,319,320,321,322,323,324,325,326,327,328,329,330,331,332,333,334,335,336,337,338,339,340,341,342,343,344,345,346,347,348,349,350,351,352,353,354,355,356,357,358,359,360,361,362,363,364,365,366,367,368,369,370,371,372,373,374,375,376,377,378,379,380,381,382,383,384,385,386,387,388,389,390,391,392,393,394,395,396,397,398,399,400,401,402,403,404,405,406,407,408,409,410,411,412,413,414,415,416,417,418,419,420,421,422,423,424,425,426,427,428,429,430,431,432,433,434,435,436,437,438,439,440,441,442,443,444,445,446,447,448,449,450,451,452,453,454,455,456,457,458,459,460,461,462,463,464,465,466,467,468,469,470,471,472,473,474,475,476,477,478,479,480,481,482,483,484,485,486,487,488,489,490,491,492,493,494,495,496,497,498,499],\"y\":[0.025661993901366646,0.025661993901366646,0.025661993901366646,0.025661993901366646,0.025661993901366646,0.025661993901366646,0.08186765047669704,0.08186765047669704,0.08186765047669704,0.12732882011662303,0.12732882011662303,0.12732882011662303,0.12732882011662303,0.12732882011662303,0.12732882011662303,0.12732882011662303,0.12732882011662303,0.1427215645508988,0.1427215645508988,0.1427215645508988,0.1427215645508988,0.1427215645508988,0.1427215645508988,0.17243823467514943,0.17243823467514943,0.17243823467514943,0.17243823467514943,0.17243823467514943,0.17243823467514943,0.17243823467514943,0.17243823467514943,0.17243823467514943,0.17243823467514943,0.17243823467514943,0.17243823467514943,0.17243823467514943,0.17243823467514943,0.17243823467514943,0.17243823467514943,0.17243823467514943,0.17243823467514943,0.17243823467514943,0.17243823467514943,0.17243823467514943,0.17243823467514943,0.17243823467514943,0.17243823467514943,0.17243823467514943,0.17243823467514943,0.17243823467514943,0.17243823467514943,0.17243823467514943,0.17243823467514943,0.17243823467514943,0.17243823467514943,0.17243823467514943,0.17243823467514943,0.17243823467514943,0.17243823467514943,0.17243823467514943,0.17243823467514943,0.17243823467514943,0.17243823467514943,0.17243823467514943,0.17243823467514943,0.17243823467514943,0.17243823467514943,0.17243823467514943,0.17243823467514943,0.17243823467514943,0.17243823467514943,0.17243823467514943,0.17243823467514943,0.17243823467514943,0.17243823467514943,0.17243823467514943,0.17243823467514943,0.17243823467514943,0.17243823467514943,0.17243823467514943,0.17243823467514943,0.17243823467514943,0.1783057243941608,0.1783057243941608,0.1783057243941608,0.1783057243941608,0.1783057243941608,0.1783057243941608,0.1783057243941608,0.1783057243941608,0.1783057243941608,0.1783057243941608,0.1783057243941608,0.1783057243941608,0.1783057243941608,0.1783057243941608,0.1783057243941608,0.1783057243941608,0.1783057243941608,0.1783057243941608,0.1783057243941608,0.1783057243941608,0.1783057243941608,0.1783057243941608,0.1783057243941608,0.1783057243941608,0.1783057243941608,0.1783057243941608,0.1783057243941608,0.1783057243941608,0.1783057243941608,0.1783057243941608,0.1783057243941608,0.1783057243941608,0.1783057243941608,0.1783057243941608,0.1783057243941608,0.1783057243941608,0.1783057243941608,0.1783057243941608,0.1783057243941608,0.1783057243941608,0.1783057243941608,0.1783057243941608,0.1783057243941608,0.1783057243941608,0.1783057243941608,0.1783057243941608,0.1783057243941608,0.1783057243941608,0.1783057243941608,0.1783057243941608,0.1783057243941608,0.1783057243941608,0.1783057243941608,0.1783057243941608,0.1783057243941608,0.1783057243941608,0.1783057243941608,0.1783057243941608,0.1783057243941608,0.1783057243941608,0.1783057243941608,0.1783057243941608,0.1783057243941608,0.1783057243941608,0.1783057243941608,0.1783057243941608,0.1783057243941608,0.1783057243941608,0.1783057243941608,0.1783057243941608,0.1783057243941608,0.1783057243941608,0.1783057243941608,0.1783057243941608,0.1783057243941608,0.1783057243941608,0.1783057243941608,0.1783057243941608,0.1783057243941608,0.1783057243941608,0.1783057243941608,0.1783057243941608,0.1783057243941608,0.1783057243941608,0.1783057243941608,0.1783057243941608,0.1783057243941608,0.1783057243941608,0.1783057243941608,0.1783057243941608,0.1783057243941608,0.1783057243941608,0.1783057243941608,0.1783057243941608,0.1783057243941608,0.1783057243941608,0.1783057243941608,0.1783057243941608,0.1783057243941608,0.17857276796329838,0.17857276796329838,0.17857276796329838,0.18846986178352368,0.18846986178352368,0.18846986178352368,0.18846986178352368,0.18846986178352368,0.18846986178352368,0.18846986178352368,0.18846986178352368,0.20717908639355556,0.20717908639355556,0.20717908639355556,0.20717908639355556,0.20717908639355556,0.20717908639355556,0.20717908639355556,0.20717908639355556,0.20717908639355556,0.20717908639355556,0.20717908639355556,0.20717908639355556,0.20717908639355556,0.20717908639355556,0.20717908639355556,0.20717908639355556,0.20717908639355556,0.20717908639355556,0.20717908639355556,0.20717908639355556,0.20717908639355556,0.20717908639355556,0.20717908639355556,0.20717908639355556,0.20717908639355556,0.20717908639355556,0.20717908639355556,0.20717908639355556,0.20717908639355556,0.20717908639355556,0.20717908639355556,0.20717908639355556,0.20717908639355556,0.20717908639355556,0.20717908639355556,0.20717908639355556,0.20717908639355556,0.20717908639355556,0.20717908639355556,0.20717908639355556,0.20717908639355556,0.20717908639355556,0.20717908639355556,0.20717908639355556,0.20717908639355556,0.20717908639355556,0.20717908639355556,0.20717908639355556,0.20717908639355556,0.20717908639355556,0.20717908639355556,0.20717908639355556,0.20717908639355556,0.20717908639355556,0.20717908639355556,0.20717908639355556,0.20717908639355556,0.20717908639355556,0.20717908639355556,0.20717908639355556,0.20717908639355556,0.20717908639355556,0.20717908639355556,0.20717908639355556,0.20717908639355556,0.20717908639355556,0.20717908639355556,0.20717908639355556,0.20717908639355556,0.20717908639355556,0.20717908639355556,0.20717908639355556,0.20717908639355556,0.20717908639355556,0.20717908639355556,0.20717908639355556,0.20717908639355556,0.20717908639355556,0.20717908639355556,0.20717908639355556,0.20717908639355556,0.20717908639355556,0.20717908639355556,0.20717908639355556,0.20717908639355556,0.20717908639355556,0.20717908639355556,0.20717908639355556,0.20717908639355556,0.20717908639355556,0.20717908639355556,0.20717908639355556,0.20717908639355556,0.20717908639355556,0.20717908639355556,0.20717908639355556,0.20717908639355556,0.20717908639355556,0.20717908639355556,0.20717908639355556,0.20717908639355556,0.20717908639355556,0.20717908639355556,0.20717908639355556,0.20717908639355556,0.20717908639355556,0.20717908639355556,0.20717908639355556,0.20717908639355556,0.20717908639355556,0.20717908639355556,0.20717908639355556,0.20717908639355556,0.20717908639355556,0.20717908639355556,0.20717908639355556,0.20717908639355556,0.20717908639355556,0.20717908639355556,0.20717908639355556,0.20717908639355556,0.20717908639355556,0.20717908639355556,0.20717908639355556,0.20717908639355556,0.20717908639355556,0.20717908639355556,0.20717908639355556,0.20717908639355556,0.20717908639355556,0.20717908639355556,0.20717908639355556,0.20717908639355556,0.20717908639355556,0.20717908639355556,0.20717908639355556,0.20717908639355556,0.20717908639355556,0.20717908639355556,0.20717908639355556,0.20717908639355556,0.20717908639355556,0.20717908639355556,0.20717908639355556,0.20717908639355556,0.20717908639355556,0.20717908639355556,0.20717908639355556,0.20717908639355556,0.20717908639355556,0.20717908639355556,0.20717908639355556,0.20717908639355556,0.20717908639355556,0.20717908639355556,0.20717908639355556,0.20717908639355556,0.20717908639355556,0.20717908639355556,0.20717908639355556,0.20717908639355556,0.20717908639355556,0.20717908639355556,0.20717908639355556,0.20717908639355556,0.20717908639355556,0.20717908639355556,0.20717908639355556,0.20717908639355556,0.20717908639355556,0.20717908639355556,0.20717908639355556,0.20717908639355556,0.20717908639355556,0.20717908639355556,0.20717908639355556,0.20717908639355556,0.20717908639355556,0.20717908639355556,0.20717908639355556,0.20717908639355556,0.20717908639355556,0.20717908639355556,0.20717908639355556,0.20717908639355556,0.20717908639355556,0.20717908639355556,0.20717908639355556,0.20717908639355556,0.20717908639355556,0.20717908639355556,0.20717908639355556,0.20717908639355556,0.20717908639355556,0.20717908639355556,0.20717908639355556,0.20717908639355556,0.20717908639355556,0.20717908639355556,0.20717908639355556,0.20717908639355556,0.20717908639355556,0.20717908639355556,0.20717908639355556,0.20717908639355556,0.20717908639355556,0.20717908639355556,0.20717908639355556,0.20717908639355556,0.20717908639355556,0.20717908639355556,0.20717908639355556,0.20717908639355556,0.20717908639355556,0.20717908639355556,0.20717908639355556,0.20717908639355556,0.20717908639355556,0.20717908639355556,0.20717908639355556,0.20717908639355556,0.20717908639355556,0.20717908639355556,0.20717908639355556,0.20717908639355556,0.20717908639355556,0.20717908639355556,0.20717908639355556,0.20717908639355556,0.20717908639355556,0.20717908639355556,0.20717908639355556,0.20717908639355556,0.20717908639355556,0.20717908639355556,0.20717908639355556,0.20717908639355556,0.20717908639355556,0.20717908639355556,0.20717908639355556,0.20717908639355556,0.20717908639355556,0.20717908639355556,0.20717908639355556,0.20717908639355556,0.20717908639355556,0.20717908639355556,0.20717908639355556,0.20717908639355556,0.20717908639355556,0.20717908639355556,0.20717908639355556,0.20717908639355556,0.20717908639355556,0.20717908639355556,0.20717908639355556,0.20717908639355556,0.20717908639355556,0.20717908639355556,0.20717908639355556,0.20717908639355556,0.20717908639355556,0.20717908639355556,0.20717908639355556,0.20717908639355556,0.20717908639355556,0.20717908639355556,0.20717908639355556,0.20717908639355556,0.20717908639355556,0.20717908639355556,0.20717908639355556,0.20717908639355556,0.20717908639355556,0.20717908639355556,0.20717908639355556,0.20717908639355556,0.20717908639355556,0.20717908639355556,0.20717908639355556,0.20717908639355556,0.20717908639355556,0.20717908639355556,0.20717908639355556,0.20717908639355556,0.20717908639355556,0.20717908639355556,0.20717908639355556,0.20717908639355556,0.20717908639355556,0.20717908639355556,0.20717908639355556,0.20717908639355556,0.20717908639355556,0.20717908639355556,0.20717908639355556,0.20717908639355556,0.20717908639355556,0.20717908639355556,0.20717908639355556,0.20717908639355556,0.20717908639355556,0.20717908639355556,0.20717908639355556,0.20717908639355556,0.20717908639355556,0.20717908639355556,0.20717908639355556],\"type\":\"scatter\"}],                        {\"title\":{\"text\":\"Optimization History Plot\"},\"xaxis\":{\"title\":{\"text\":\"Trial\"}},\"yaxis\":{\"title\":{\"text\":\"Objective Value\"}},\"template\":{\"data\":{\"histogram2dcontour\":[{\"type\":\"histogram2dcontour\",\"colorbar\":{\"outlinewidth\":0,\"ticks\":\"\"},\"colorscale\":[[0.0,\"#0d0887\"],[0.1111111111111111,\"#46039f\"],[0.2222222222222222,\"#7201a8\"],[0.3333333333333333,\"#9c179e\"],[0.4444444444444444,\"#bd3786\"],[0.5555555555555556,\"#d8576b\"],[0.6666666666666666,\"#ed7953\"],[0.7777777777777778,\"#fb9f3a\"],[0.8888888888888888,\"#fdca26\"],[1.0,\"#f0f921\"]]}],\"choropleth\":[{\"type\":\"choropleth\",\"colorbar\":{\"outlinewidth\":0,\"ticks\":\"\"}}],\"histogram2d\":[{\"type\":\"histogram2d\",\"colorbar\":{\"outlinewidth\":0,\"ticks\":\"\"},\"colorscale\":[[0.0,\"#0d0887\"],[0.1111111111111111,\"#46039f\"],[0.2222222222222222,\"#7201a8\"],[0.3333333333333333,\"#9c179e\"],[0.4444444444444444,\"#bd3786\"],[0.5555555555555556,\"#d8576b\"],[0.6666666666666666,\"#ed7953\"],[0.7777777777777778,\"#fb9f3a\"],[0.8888888888888888,\"#fdca26\"],[1.0,\"#f0f921\"]]}],\"heatmap\":[{\"type\":\"heatmap\",\"colorbar\":{\"outlinewidth\":0,\"ticks\":\"\"},\"colorscale\":[[0.0,\"#0d0887\"],[0.1111111111111111,\"#46039f\"],[0.2222222222222222,\"#7201a8\"],[0.3333333333333333,\"#9c179e\"],[0.4444444444444444,\"#bd3786\"],[0.5555555555555556,\"#d8576b\"],[0.6666666666666666,\"#ed7953\"],[0.7777777777777778,\"#fb9f3a\"],[0.8888888888888888,\"#fdca26\"],[1.0,\"#f0f921\"]]}],\"heatmapgl\":[{\"type\":\"heatmapgl\",\"colorbar\":{\"outlinewidth\":0,\"ticks\":\"\"},\"colorscale\":[[0.0,\"#0d0887\"],[0.1111111111111111,\"#46039f\"],[0.2222222222222222,\"#7201a8\"],[0.3333333333333333,\"#9c179e\"],[0.4444444444444444,\"#bd3786\"],[0.5555555555555556,\"#d8576b\"],[0.6666666666666666,\"#ed7953\"],[0.7777777777777778,\"#fb9f3a\"],[0.8888888888888888,\"#fdca26\"],[1.0,\"#f0f921\"]]}],\"contourcarpet\":[{\"type\":\"contourcarpet\",\"colorbar\":{\"outlinewidth\":0,\"ticks\":\"\"}}],\"contour\":[{\"type\":\"contour\",\"colorbar\":{\"outlinewidth\":0,\"ticks\":\"\"},\"colorscale\":[[0.0,\"#0d0887\"],[0.1111111111111111,\"#46039f\"],[0.2222222222222222,\"#7201a8\"],[0.3333333333333333,\"#9c179e\"],[0.4444444444444444,\"#bd3786\"],[0.5555555555555556,\"#d8576b\"],[0.6666666666666666,\"#ed7953\"],[0.7777777777777778,\"#fb9f3a\"],[0.8888888888888888,\"#fdca26\"],[1.0,\"#f0f921\"]]}],\"surface\":[{\"type\":\"surface\",\"colorbar\":{\"outlinewidth\":0,\"ticks\":\"\"},\"colorscale\":[[0.0,\"#0d0887\"],[0.1111111111111111,\"#46039f\"],[0.2222222222222222,\"#7201a8\"],[0.3333333333333333,\"#9c179e\"],[0.4444444444444444,\"#bd3786\"],[0.5555555555555556,\"#d8576b\"],[0.6666666666666666,\"#ed7953\"],[0.7777777777777778,\"#fb9f3a\"],[0.8888888888888888,\"#fdca26\"],[1.0,\"#f0f921\"]]}],\"mesh3d\":[{\"type\":\"mesh3d\",\"colorbar\":{\"outlinewidth\":0,\"ticks\":\"\"}}],\"scatter\":[{\"fillpattern\":{\"fillmode\":\"overlay\",\"size\":10,\"solidity\":0.2},\"type\":\"scatter\"}],\"parcoords\":[{\"type\":\"parcoords\",\"line\":{\"colorbar\":{\"outlinewidth\":0,\"ticks\":\"\"}}}],\"scatterpolargl\":[{\"type\":\"scatterpolargl\",\"marker\":{\"colorbar\":{\"outlinewidth\":0,\"ticks\":\"\"}}}],\"bar\":[{\"error_x\":{\"color\":\"#2a3f5f\"},\"error_y\":{\"color\":\"#2a3f5f\"},\"marker\":{\"line\":{\"color\":\"#E5ECF6\",\"width\":0.5},\"pattern\":{\"fillmode\":\"overlay\",\"size\":10,\"solidity\":0.2}},\"type\":\"bar\"}],\"scattergeo\":[{\"type\":\"scattergeo\",\"marker\":{\"colorbar\":{\"outlinewidth\":0,\"ticks\":\"\"}}}],\"scatterpolar\":[{\"type\":\"scatterpolar\",\"marker\":{\"colorbar\":{\"outlinewidth\":0,\"ticks\":\"\"}}}],\"histogram\":[{\"marker\":{\"pattern\":{\"fillmode\":\"overlay\",\"size\":10,\"solidity\":0.2}},\"type\":\"histogram\"}],\"scattergl\":[{\"type\":\"scattergl\",\"marker\":{\"colorbar\":{\"outlinewidth\":0,\"ticks\":\"\"}}}],\"scatter3d\":[{\"type\":\"scatter3d\",\"line\":{\"colorbar\":{\"outlinewidth\":0,\"ticks\":\"\"}},\"marker\":{\"colorbar\":{\"outlinewidth\":0,\"ticks\":\"\"}}}],\"scattermapbox\":[{\"type\":\"scattermapbox\",\"marker\":{\"colorbar\":{\"outlinewidth\":0,\"ticks\":\"\"}}}],\"scatterternary\":[{\"type\":\"scatterternary\",\"marker\":{\"colorbar\":{\"outlinewidth\":0,\"ticks\":\"\"}}}],\"scattercarpet\":[{\"type\":\"scattercarpet\",\"marker\":{\"colorbar\":{\"outlinewidth\":0,\"ticks\":\"\"}}}],\"carpet\":[{\"aaxis\":{\"endlinecolor\":\"#2a3f5f\",\"gridcolor\":\"white\",\"linecolor\":\"white\",\"minorgridcolor\":\"white\",\"startlinecolor\":\"#2a3f5f\"},\"baxis\":{\"endlinecolor\":\"#2a3f5f\",\"gridcolor\":\"white\",\"linecolor\":\"white\",\"minorgridcolor\":\"white\",\"startlinecolor\":\"#2a3f5f\"},\"type\":\"carpet\"}],\"table\":[{\"cells\":{\"fill\":{\"color\":\"#EBF0F8\"},\"line\":{\"color\":\"white\"}},\"header\":{\"fill\":{\"color\":\"#C8D4E3\"},\"line\":{\"color\":\"white\"}},\"type\":\"table\"}],\"barpolar\":[{\"marker\":{\"line\":{\"color\":\"#E5ECF6\",\"width\":0.5},\"pattern\":{\"fillmode\":\"overlay\",\"size\":10,\"solidity\":0.2}},\"type\":\"barpolar\"}],\"pie\":[{\"automargin\":true,\"type\":\"pie\"}]},\"layout\":{\"autotypenumbers\":\"strict\",\"colorway\":[\"#636efa\",\"#EF553B\",\"#00cc96\",\"#ab63fa\",\"#FFA15A\",\"#19d3f3\",\"#FF6692\",\"#B6E880\",\"#FF97FF\",\"#FECB52\"],\"font\":{\"color\":\"#2a3f5f\"},\"hovermode\":\"closest\",\"hoverlabel\":{\"align\":\"left\"},\"paper_bgcolor\":\"white\",\"plot_bgcolor\":\"#E5ECF6\",\"polar\":{\"bgcolor\":\"#E5ECF6\",\"angularaxis\":{\"gridcolor\":\"white\",\"linecolor\":\"white\",\"ticks\":\"\"},\"radialaxis\":{\"gridcolor\":\"white\",\"linecolor\":\"white\",\"ticks\":\"\"}},\"ternary\":{\"bgcolor\":\"#E5ECF6\",\"aaxis\":{\"gridcolor\":\"white\",\"linecolor\":\"white\",\"ticks\":\"\"},\"baxis\":{\"gridcolor\":\"white\",\"linecolor\":\"white\",\"ticks\":\"\"},\"caxis\":{\"gridcolor\":\"white\",\"linecolor\":\"white\",\"ticks\":\"\"}},\"coloraxis\":{\"colorbar\":{\"outlinewidth\":0,\"ticks\":\"\"}},\"colorscale\":{\"sequential\":[[0.0,\"#0d0887\"],[0.1111111111111111,\"#46039f\"],[0.2222222222222222,\"#7201a8\"],[0.3333333333333333,\"#9c179e\"],[0.4444444444444444,\"#bd3786\"],[0.5555555555555556,\"#d8576b\"],[0.6666666666666666,\"#ed7953\"],[0.7777777777777778,\"#fb9f3a\"],[0.8888888888888888,\"#fdca26\"],[1.0,\"#f0f921\"]],\"sequentialminus\":[[0.0,\"#0d0887\"],[0.1111111111111111,\"#46039f\"],[0.2222222222222222,\"#7201a8\"],[0.3333333333333333,\"#9c179e\"],[0.4444444444444444,\"#bd3786\"],[0.5555555555555556,\"#d8576b\"],[0.6666666666666666,\"#ed7953\"],[0.7777777777777778,\"#fb9f3a\"],[0.8888888888888888,\"#fdca26\"],[1.0,\"#f0f921\"]],\"diverging\":[[0,\"#8e0152\"],[0.1,\"#c51b7d\"],[0.2,\"#de77ae\"],[0.3,\"#f1b6da\"],[0.4,\"#fde0ef\"],[0.5,\"#f7f7f7\"],[0.6,\"#e6f5d0\"],[0.7,\"#b8e186\"],[0.8,\"#7fbc41\"],[0.9,\"#4d9221\"],[1,\"#276419\"]]},\"xaxis\":{\"gridcolor\":\"white\",\"linecolor\":\"white\",\"ticks\":\"\",\"title\":{\"standoff\":15},\"zerolinecolor\":\"white\",\"automargin\":true,\"zerolinewidth\":2},\"yaxis\":{\"gridcolor\":\"white\",\"linecolor\":\"white\",\"ticks\":\"\",\"title\":{\"standoff\":15},\"zerolinecolor\":\"white\",\"automargin\":true,\"zerolinewidth\":2},\"scene\":{\"xaxis\":{\"backgroundcolor\":\"#E5ECF6\",\"gridcolor\":\"white\",\"linecolor\":\"white\",\"showbackground\":true,\"ticks\":\"\",\"zerolinecolor\":\"white\",\"gridwidth\":2},\"yaxis\":{\"backgroundcolor\":\"#E5ECF6\",\"gridcolor\":\"white\",\"linecolor\":\"white\",\"showbackground\":true,\"ticks\":\"\",\"zerolinecolor\":\"white\",\"gridwidth\":2},\"zaxis\":{\"backgroundcolor\":\"#E5ECF6\",\"gridcolor\":\"white\",\"linecolor\":\"white\",\"showbackground\":true,\"ticks\":\"\",\"zerolinecolor\":\"white\",\"gridwidth\":2}},\"shapedefaults\":{\"line\":{\"color\":\"#2a3f5f\"}},\"annotationdefaults\":{\"arrowcolor\":\"#2a3f5f\",\"arrowhead\":0,\"arrowwidth\":1},\"geo\":{\"bgcolor\":\"white\",\"landcolor\":\"#E5ECF6\",\"subunitcolor\":\"white\",\"showland\":true,\"showlakes\":true,\"lakecolor\":\"white\"},\"title\":{\"x\":0.05},\"mapbox\":{\"style\":\"light\"}}}},                        {\"responsive\": true}                    ).then(function(){\n",
       "                            \n",
       "var gd = document.getElementById('664e9534-6f4d-48fd-901b-091346f845e9');\n",
       "var x = new MutationObserver(function (mutations, observer) {{\n",
       "        var display = window.getComputedStyle(gd).display;\n",
       "        if (!display || display === 'none') {{\n",
       "            console.log([gd, 'removed!']);\n",
       "            Plotly.purge(gd);\n",
       "            observer.disconnect();\n",
       "        }}\n",
       "}});\n",
       "\n",
       "// Listen for the removal of the full notebook cells\n",
       "var notebookContainer = gd.closest('#notebook-container');\n",
       "if (notebookContainer) {{\n",
       "    x.observe(notebookContainer, {childList: true});\n",
       "}}\n",
       "\n",
       "// Listen for the clearing of the current output cell\n",
       "var outputEl = gd.closest('.output');\n",
       "if (outputEl) {{\n",
       "    x.observe(outputEl, {childList: true});\n",
       "}}\n",
       "\n",
       "                        })                };                });            </script>        </div>"
      ]
     },
     "metadata": {},
     "output_type": "display_data"
    }
   ],
   "source": [
    "#plot optimization history\n",
    "optuna.visualization.plot_optimization_history(study)\n"
   ]
  },
  {
   "cell_type": "code",
   "execution_count": 20,
   "id": "d12daa59",
   "metadata": {},
   "outputs": [],
   "source": [
    "#save the optimization\n",
    "with open(\"study_opt_punzi_06.pkl\", 'wb') as pickle_file:\n",
    "    pickle.dump(study,pickle_file )"
   ]
  },
  {
   "cell_type": "code",
   "execution_count": 14,
   "id": "daed643b",
   "metadata": {},
   "outputs": [
    {
     "name": "stdout",
     "output_type": "stream",
     "text": [
      "Best trial until now:\n",
      " Value:  0.18849724193868564\n",
      " Params: \n",
      "    eval_metric: auc\n",
      "    lambda: 4.834442252138006e-07\n",
      "    alpha: 0.9295862910430833\n",
      "    eta: 0.031252964816726424\n",
      "    scale_pos_weight: 0.02004042723672684\n",
      "    n_estimators: 208\n",
      "    max_depth: 11\n",
      "    gamma: 2.1278654286069367e-08\n",
      "    grow_policy: lossguide\n"
     ]
    }
   ],
   "source": [
    "#open it again (just to see how its done)\n",
    "study = 0\n",
    "with open(\"study_opt_punzi_05.pkl\", 'rb') as pickle_file:\n",
    "    study1 = pickle.load(pickle_file)\n",
    "    print(\"Best trial until now:\")\n",
    "    print(\" Value: \", study1.best_trial.value)\n",
    "    print(\" Params: \")\n",
    "    for key, value in study1.best_trial.params.items():\n",
    "        print(f\"    {key}: {value}\")\n",
    "    study = study1"
   ]
  },
  {
   "cell_type": "code",
   "execution_count": 21,
   "id": "c822470e",
   "metadata": {},
   "outputs": [
    {
     "data": {
      "application/vnd.plotly.v1+json": {
       "config": {
        "plotlyServerURL": "https://plot.ly"
       },
       "data": [
        {
         "cliponaxis": false,
         "hovertemplate": [
          "gamma (FloatDistribution): 0.0008268670448893472<extra></extra>",
          "lambda (FloatDistribution): 0.00833188726817493<extra></extra>",
          "eval_metric (CategoricalDistribution): 0.01048700148840282<extra></extra>",
          "grow_policy (CategoricalDistribution): 0.018989951165037565<extra></extra>",
          "n_estimators (IntDistribution): 0.09137361932113768<extra></extra>",
          "eta (FloatDistribution): 0.14267659899976287<extra></extra>",
          "scale_pos_weight (FloatDistribution): 0.15331358305074916<extra></extra>",
          "alpha (FloatDistribution): 0.16788893685872616<extra></extra>",
          "max_depth (IntDistribution): 0.40611155480311945<extra></extra>"
         ],
         "marker": {
          "color": "rgb(66,146,198)"
         },
         "orientation": "h",
         "text": [
          "<0.01",
          "<0.01",
          "0.01",
          "0.02",
          "0.09",
          "0.14",
          "0.15",
          "0.17",
          "0.41"
         ],
         "textposition": "outside",
         "type": "bar",
         "x": [
          0.0008268670448893472,
          0.00833188726817493,
          0.01048700148840282,
          0.018989951165037565,
          0.09137361932113768,
          0.14267659899976287,
          0.15331358305074916,
          0.16788893685872616,
          0.40611155480311945
         ],
         "y": [
          "gamma",
          "lambda",
          "eval_metric",
          "grow_policy",
          "n_estimators",
          "eta",
          "scale_pos_weight",
          "alpha",
          "max_depth"
         ]
        }
       ],
       "layout": {
        "showlegend": false,
        "template": {
         "data": {
          "bar": [
           {
            "error_x": {
             "color": "#2a3f5f"
            },
            "error_y": {
             "color": "#2a3f5f"
            },
            "marker": {
             "line": {
              "color": "#E5ECF6",
              "width": 0.5
             },
             "pattern": {
              "fillmode": "overlay",
              "size": 10,
              "solidity": 0.2
             }
            },
            "type": "bar"
           }
          ],
          "barpolar": [
           {
            "marker": {
             "line": {
              "color": "#E5ECF6",
              "width": 0.5
             },
             "pattern": {
              "fillmode": "overlay",
              "size": 10,
              "solidity": 0.2
             }
            },
            "type": "barpolar"
           }
          ],
          "carpet": [
           {
            "aaxis": {
             "endlinecolor": "#2a3f5f",
             "gridcolor": "white",
             "linecolor": "white",
             "minorgridcolor": "white",
             "startlinecolor": "#2a3f5f"
            },
            "baxis": {
             "endlinecolor": "#2a3f5f",
             "gridcolor": "white",
             "linecolor": "white",
             "minorgridcolor": "white",
             "startlinecolor": "#2a3f5f"
            },
            "type": "carpet"
           }
          ],
          "choropleth": [
           {
            "colorbar": {
             "outlinewidth": 0,
             "ticks": ""
            },
            "type": "choropleth"
           }
          ],
          "contour": [
           {
            "colorbar": {
             "outlinewidth": 0,
             "ticks": ""
            },
            "colorscale": [
             [
              0,
              "#0d0887"
             ],
             [
              0.1111111111111111,
              "#46039f"
             ],
             [
              0.2222222222222222,
              "#7201a8"
             ],
             [
              0.3333333333333333,
              "#9c179e"
             ],
             [
              0.4444444444444444,
              "#bd3786"
             ],
             [
              0.5555555555555556,
              "#d8576b"
             ],
             [
              0.6666666666666666,
              "#ed7953"
             ],
             [
              0.7777777777777778,
              "#fb9f3a"
             ],
             [
              0.8888888888888888,
              "#fdca26"
             ],
             [
              1,
              "#f0f921"
             ]
            ],
            "type": "contour"
           }
          ],
          "contourcarpet": [
           {
            "colorbar": {
             "outlinewidth": 0,
             "ticks": ""
            },
            "type": "contourcarpet"
           }
          ],
          "heatmap": [
           {
            "colorbar": {
             "outlinewidth": 0,
             "ticks": ""
            },
            "colorscale": [
             [
              0,
              "#0d0887"
             ],
             [
              0.1111111111111111,
              "#46039f"
             ],
             [
              0.2222222222222222,
              "#7201a8"
             ],
             [
              0.3333333333333333,
              "#9c179e"
             ],
             [
              0.4444444444444444,
              "#bd3786"
             ],
             [
              0.5555555555555556,
              "#d8576b"
             ],
             [
              0.6666666666666666,
              "#ed7953"
             ],
             [
              0.7777777777777778,
              "#fb9f3a"
             ],
             [
              0.8888888888888888,
              "#fdca26"
             ],
             [
              1,
              "#f0f921"
             ]
            ],
            "type": "heatmap"
           }
          ],
          "heatmapgl": [
           {
            "colorbar": {
             "outlinewidth": 0,
             "ticks": ""
            },
            "colorscale": [
             [
              0,
              "#0d0887"
             ],
             [
              0.1111111111111111,
              "#46039f"
             ],
             [
              0.2222222222222222,
              "#7201a8"
             ],
             [
              0.3333333333333333,
              "#9c179e"
             ],
             [
              0.4444444444444444,
              "#bd3786"
             ],
             [
              0.5555555555555556,
              "#d8576b"
             ],
             [
              0.6666666666666666,
              "#ed7953"
             ],
             [
              0.7777777777777778,
              "#fb9f3a"
             ],
             [
              0.8888888888888888,
              "#fdca26"
             ],
             [
              1,
              "#f0f921"
             ]
            ],
            "type": "heatmapgl"
           }
          ],
          "histogram": [
           {
            "marker": {
             "pattern": {
              "fillmode": "overlay",
              "size": 10,
              "solidity": 0.2
             }
            },
            "type": "histogram"
           }
          ],
          "histogram2d": [
           {
            "colorbar": {
             "outlinewidth": 0,
             "ticks": ""
            },
            "colorscale": [
             [
              0,
              "#0d0887"
             ],
             [
              0.1111111111111111,
              "#46039f"
             ],
             [
              0.2222222222222222,
              "#7201a8"
             ],
             [
              0.3333333333333333,
              "#9c179e"
             ],
             [
              0.4444444444444444,
              "#bd3786"
             ],
             [
              0.5555555555555556,
              "#d8576b"
             ],
             [
              0.6666666666666666,
              "#ed7953"
             ],
             [
              0.7777777777777778,
              "#fb9f3a"
             ],
             [
              0.8888888888888888,
              "#fdca26"
             ],
             [
              1,
              "#f0f921"
             ]
            ],
            "type": "histogram2d"
           }
          ],
          "histogram2dcontour": [
           {
            "colorbar": {
             "outlinewidth": 0,
             "ticks": ""
            },
            "colorscale": [
             [
              0,
              "#0d0887"
             ],
             [
              0.1111111111111111,
              "#46039f"
             ],
             [
              0.2222222222222222,
              "#7201a8"
             ],
             [
              0.3333333333333333,
              "#9c179e"
             ],
             [
              0.4444444444444444,
              "#bd3786"
             ],
             [
              0.5555555555555556,
              "#d8576b"
             ],
             [
              0.6666666666666666,
              "#ed7953"
             ],
             [
              0.7777777777777778,
              "#fb9f3a"
             ],
             [
              0.8888888888888888,
              "#fdca26"
             ],
             [
              1,
              "#f0f921"
             ]
            ],
            "type": "histogram2dcontour"
           }
          ],
          "mesh3d": [
           {
            "colorbar": {
             "outlinewidth": 0,
             "ticks": ""
            },
            "type": "mesh3d"
           }
          ],
          "parcoords": [
           {
            "line": {
             "colorbar": {
              "outlinewidth": 0,
              "ticks": ""
             }
            },
            "type": "parcoords"
           }
          ],
          "pie": [
           {
            "automargin": true,
            "type": "pie"
           }
          ],
          "scatter": [
           {
            "fillpattern": {
             "fillmode": "overlay",
             "size": 10,
             "solidity": 0.2
            },
            "type": "scatter"
           }
          ],
          "scatter3d": [
           {
            "line": {
             "colorbar": {
              "outlinewidth": 0,
              "ticks": ""
             }
            },
            "marker": {
             "colorbar": {
              "outlinewidth": 0,
              "ticks": ""
             }
            },
            "type": "scatter3d"
           }
          ],
          "scattercarpet": [
           {
            "marker": {
             "colorbar": {
              "outlinewidth": 0,
              "ticks": ""
             }
            },
            "type": "scattercarpet"
           }
          ],
          "scattergeo": [
           {
            "marker": {
             "colorbar": {
              "outlinewidth": 0,
              "ticks": ""
             }
            },
            "type": "scattergeo"
           }
          ],
          "scattergl": [
           {
            "marker": {
             "colorbar": {
              "outlinewidth": 0,
              "ticks": ""
             }
            },
            "type": "scattergl"
           }
          ],
          "scattermapbox": [
           {
            "marker": {
             "colorbar": {
              "outlinewidth": 0,
              "ticks": ""
             }
            },
            "type": "scattermapbox"
           }
          ],
          "scatterpolar": [
           {
            "marker": {
             "colorbar": {
              "outlinewidth": 0,
              "ticks": ""
             }
            },
            "type": "scatterpolar"
           }
          ],
          "scatterpolargl": [
           {
            "marker": {
             "colorbar": {
              "outlinewidth": 0,
              "ticks": ""
             }
            },
            "type": "scatterpolargl"
           }
          ],
          "scatterternary": [
           {
            "marker": {
             "colorbar": {
              "outlinewidth": 0,
              "ticks": ""
             }
            },
            "type": "scatterternary"
           }
          ],
          "surface": [
           {
            "colorbar": {
             "outlinewidth": 0,
             "ticks": ""
            },
            "colorscale": [
             [
              0,
              "#0d0887"
             ],
             [
              0.1111111111111111,
              "#46039f"
             ],
             [
              0.2222222222222222,
              "#7201a8"
             ],
             [
              0.3333333333333333,
              "#9c179e"
             ],
             [
              0.4444444444444444,
              "#bd3786"
             ],
             [
              0.5555555555555556,
              "#d8576b"
             ],
             [
              0.6666666666666666,
              "#ed7953"
             ],
             [
              0.7777777777777778,
              "#fb9f3a"
             ],
             [
              0.8888888888888888,
              "#fdca26"
             ],
             [
              1,
              "#f0f921"
             ]
            ],
            "type": "surface"
           }
          ],
          "table": [
           {
            "cells": {
             "fill": {
              "color": "#EBF0F8"
             },
             "line": {
              "color": "white"
             }
            },
            "header": {
             "fill": {
              "color": "#C8D4E3"
             },
             "line": {
              "color": "white"
             }
            },
            "type": "table"
           }
          ]
         },
         "layout": {
          "annotationdefaults": {
           "arrowcolor": "#2a3f5f",
           "arrowhead": 0,
           "arrowwidth": 1
          },
          "autotypenumbers": "strict",
          "coloraxis": {
           "colorbar": {
            "outlinewidth": 0,
            "ticks": ""
           }
          },
          "colorscale": {
           "diverging": [
            [
             0,
             "#8e0152"
            ],
            [
             0.1,
             "#c51b7d"
            ],
            [
             0.2,
             "#de77ae"
            ],
            [
             0.3,
             "#f1b6da"
            ],
            [
             0.4,
             "#fde0ef"
            ],
            [
             0.5,
             "#f7f7f7"
            ],
            [
             0.6,
             "#e6f5d0"
            ],
            [
             0.7,
             "#b8e186"
            ],
            [
             0.8,
             "#7fbc41"
            ],
            [
             0.9,
             "#4d9221"
            ],
            [
             1,
             "#276419"
            ]
           ],
           "sequential": [
            [
             0,
             "#0d0887"
            ],
            [
             0.1111111111111111,
             "#46039f"
            ],
            [
             0.2222222222222222,
             "#7201a8"
            ],
            [
             0.3333333333333333,
             "#9c179e"
            ],
            [
             0.4444444444444444,
             "#bd3786"
            ],
            [
             0.5555555555555556,
             "#d8576b"
            ],
            [
             0.6666666666666666,
             "#ed7953"
            ],
            [
             0.7777777777777778,
             "#fb9f3a"
            ],
            [
             0.8888888888888888,
             "#fdca26"
            ],
            [
             1,
             "#f0f921"
            ]
           ],
           "sequentialminus": [
            [
             0,
             "#0d0887"
            ],
            [
             0.1111111111111111,
             "#46039f"
            ],
            [
             0.2222222222222222,
             "#7201a8"
            ],
            [
             0.3333333333333333,
             "#9c179e"
            ],
            [
             0.4444444444444444,
             "#bd3786"
            ],
            [
             0.5555555555555556,
             "#d8576b"
            ],
            [
             0.6666666666666666,
             "#ed7953"
            ],
            [
             0.7777777777777778,
             "#fb9f3a"
            ],
            [
             0.8888888888888888,
             "#fdca26"
            ],
            [
             1,
             "#f0f921"
            ]
           ]
          },
          "colorway": [
           "#636efa",
           "#EF553B",
           "#00cc96",
           "#ab63fa",
           "#FFA15A",
           "#19d3f3",
           "#FF6692",
           "#B6E880",
           "#FF97FF",
           "#FECB52"
          ],
          "font": {
           "color": "#2a3f5f"
          },
          "geo": {
           "bgcolor": "white",
           "lakecolor": "white",
           "landcolor": "#E5ECF6",
           "showlakes": true,
           "showland": true,
           "subunitcolor": "white"
          },
          "hoverlabel": {
           "align": "left"
          },
          "hovermode": "closest",
          "mapbox": {
           "style": "light"
          },
          "paper_bgcolor": "white",
          "plot_bgcolor": "#E5ECF6",
          "polar": {
           "angularaxis": {
            "gridcolor": "white",
            "linecolor": "white",
            "ticks": ""
           },
           "bgcolor": "#E5ECF6",
           "radialaxis": {
            "gridcolor": "white",
            "linecolor": "white",
            "ticks": ""
           }
          },
          "scene": {
           "xaxis": {
            "backgroundcolor": "#E5ECF6",
            "gridcolor": "white",
            "gridwidth": 2,
            "linecolor": "white",
            "showbackground": true,
            "ticks": "",
            "zerolinecolor": "white"
           },
           "yaxis": {
            "backgroundcolor": "#E5ECF6",
            "gridcolor": "white",
            "gridwidth": 2,
            "linecolor": "white",
            "showbackground": true,
            "ticks": "",
            "zerolinecolor": "white"
           },
           "zaxis": {
            "backgroundcolor": "#E5ECF6",
            "gridcolor": "white",
            "gridwidth": 2,
            "linecolor": "white",
            "showbackground": true,
            "ticks": "",
            "zerolinecolor": "white"
           }
          },
          "shapedefaults": {
           "line": {
            "color": "#2a3f5f"
           }
          },
          "ternary": {
           "aaxis": {
            "gridcolor": "white",
            "linecolor": "white",
            "ticks": ""
           },
           "baxis": {
            "gridcolor": "white",
            "linecolor": "white",
            "ticks": ""
           },
           "bgcolor": "#E5ECF6",
           "caxis": {
            "gridcolor": "white",
            "linecolor": "white",
            "ticks": ""
           }
          },
          "title": {
           "x": 0.05
          },
          "xaxis": {
           "automargin": true,
           "gridcolor": "white",
           "linecolor": "white",
           "ticks": "",
           "title": {
            "standoff": 15
           },
           "zerolinecolor": "white",
           "zerolinewidth": 2
          },
          "yaxis": {
           "automargin": true,
           "gridcolor": "white",
           "linecolor": "white",
           "ticks": "",
           "title": {
            "standoff": 15
           },
           "zerolinecolor": "white",
           "zerolinewidth": 2
          }
         }
        },
        "title": {
         "text": "Hyperparameter Importances"
        },
        "xaxis": {
         "title": {
          "text": "Importance for Objective Value"
         }
        },
        "yaxis": {
         "title": {
          "text": "Hyperparameter"
         }
        }
       }
      },
      "text/html": [
       "<div>                            <div id=\"f3401dc8-2a29-48a3-ac52-d49d5d09f5a2\" class=\"plotly-graph-div\" style=\"height:525px; width:100%;\"></div>            <script type=\"text/javascript\">                require([\"plotly\"], function(Plotly) {                    window.PLOTLYENV=window.PLOTLYENV || {};                                    if (document.getElementById(\"f3401dc8-2a29-48a3-ac52-d49d5d09f5a2\")) {                    Plotly.newPlot(                        \"f3401dc8-2a29-48a3-ac52-d49d5d09f5a2\",                        [{\"cliponaxis\":false,\"hovertemplate\":[\"gamma (FloatDistribution): 0.0008268670448893472<extra></extra>\",\"lambda (FloatDistribution): 0.00833188726817493<extra></extra>\",\"eval_metric (CategoricalDistribution): 0.01048700148840282<extra></extra>\",\"grow_policy (CategoricalDistribution): 0.018989951165037565<extra></extra>\",\"n_estimators (IntDistribution): 0.09137361932113768<extra></extra>\",\"eta (FloatDistribution): 0.14267659899976287<extra></extra>\",\"scale_pos_weight (FloatDistribution): 0.15331358305074916<extra></extra>\",\"alpha (FloatDistribution): 0.16788893685872616<extra></extra>\",\"max_depth (IntDistribution): 0.40611155480311945<extra></extra>\"],\"marker\":{\"color\":\"rgb(66,146,198)\"},\"orientation\":\"h\",\"text\":[\"<0.01\",\"<0.01\",\"0.01\",\"0.02\",\"0.09\",\"0.14\",\"0.15\",\"0.17\",\"0.41\"],\"textposition\":\"outside\",\"x\":[0.0008268670448893472,0.00833188726817493,0.01048700148840282,0.018989951165037565,0.09137361932113768,0.14267659899976287,0.15331358305074916,0.16788893685872616,0.40611155480311945],\"y\":[\"gamma\",\"lambda\",\"eval_metric\",\"grow_policy\",\"n_estimators\",\"eta\",\"scale_pos_weight\",\"alpha\",\"max_depth\"],\"type\":\"bar\"}],                        {\"showlegend\":false,\"title\":{\"text\":\"Hyperparameter Importances\"},\"xaxis\":{\"title\":{\"text\":\"Importance for Objective Value\"}},\"yaxis\":{\"title\":{\"text\":\"Hyperparameter\"}},\"template\":{\"data\":{\"histogram2dcontour\":[{\"type\":\"histogram2dcontour\",\"colorbar\":{\"outlinewidth\":0,\"ticks\":\"\"},\"colorscale\":[[0.0,\"#0d0887\"],[0.1111111111111111,\"#46039f\"],[0.2222222222222222,\"#7201a8\"],[0.3333333333333333,\"#9c179e\"],[0.4444444444444444,\"#bd3786\"],[0.5555555555555556,\"#d8576b\"],[0.6666666666666666,\"#ed7953\"],[0.7777777777777778,\"#fb9f3a\"],[0.8888888888888888,\"#fdca26\"],[1.0,\"#f0f921\"]]}],\"choropleth\":[{\"type\":\"choropleth\",\"colorbar\":{\"outlinewidth\":0,\"ticks\":\"\"}}],\"histogram2d\":[{\"type\":\"histogram2d\",\"colorbar\":{\"outlinewidth\":0,\"ticks\":\"\"},\"colorscale\":[[0.0,\"#0d0887\"],[0.1111111111111111,\"#46039f\"],[0.2222222222222222,\"#7201a8\"],[0.3333333333333333,\"#9c179e\"],[0.4444444444444444,\"#bd3786\"],[0.5555555555555556,\"#d8576b\"],[0.6666666666666666,\"#ed7953\"],[0.7777777777777778,\"#fb9f3a\"],[0.8888888888888888,\"#fdca26\"],[1.0,\"#f0f921\"]]}],\"heatmap\":[{\"type\":\"heatmap\",\"colorbar\":{\"outlinewidth\":0,\"ticks\":\"\"},\"colorscale\":[[0.0,\"#0d0887\"],[0.1111111111111111,\"#46039f\"],[0.2222222222222222,\"#7201a8\"],[0.3333333333333333,\"#9c179e\"],[0.4444444444444444,\"#bd3786\"],[0.5555555555555556,\"#d8576b\"],[0.6666666666666666,\"#ed7953\"],[0.7777777777777778,\"#fb9f3a\"],[0.8888888888888888,\"#fdca26\"],[1.0,\"#f0f921\"]]}],\"heatmapgl\":[{\"type\":\"heatmapgl\",\"colorbar\":{\"outlinewidth\":0,\"ticks\":\"\"},\"colorscale\":[[0.0,\"#0d0887\"],[0.1111111111111111,\"#46039f\"],[0.2222222222222222,\"#7201a8\"],[0.3333333333333333,\"#9c179e\"],[0.4444444444444444,\"#bd3786\"],[0.5555555555555556,\"#d8576b\"],[0.6666666666666666,\"#ed7953\"],[0.7777777777777778,\"#fb9f3a\"],[0.8888888888888888,\"#fdca26\"],[1.0,\"#f0f921\"]]}],\"contourcarpet\":[{\"type\":\"contourcarpet\",\"colorbar\":{\"outlinewidth\":0,\"ticks\":\"\"}}],\"contour\":[{\"type\":\"contour\",\"colorbar\":{\"outlinewidth\":0,\"ticks\":\"\"},\"colorscale\":[[0.0,\"#0d0887\"],[0.1111111111111111,\"#46039f\"],[0.2222222222222222,\"#7201a8\"],[0.3333333333333333,\"#9c179e\"],[0.4444444444444444,\"#bd3786\"],[0.5555555555555556,\"#d8576b\"],[0.6666666666666666,\"#ed7953\"],[0.7777777777777778,\"#fb9f3a\"],[0.8888888888888888,\"#fdca26\"],[1.0,\"#f0f921\"]]}],\"surface\":[{\"type\":\"surface\",\"colorbar\":{\"outlinewidth\":0,\"ticks\":\"\"},\"colorscale\":[[0.0,\"#0d0887\"],[0.1111111111111111,\"#46039f\"],[0.2222222222222222,\"#7201a8\"],[0.3333333333333333,\"#9c179e\"],[0.4444444444444444,\"#bd3786\"],[0.5555555555555556,\"#d8576b\"],[0.6666666666666666,\"#ed7953\"],[0.7777777777777778,\"#fb9f3a\"],[0.8888888888888888,\"#fdca26\"],[1.0,\"#f0f921\"]]}],\"mesh3d\":[{\"type\":\"mesh3d\",\"colorbar\":{\"outlinewidth\":0,\"ticks\":\"\"}}],\"scatter\":[{\"fillpattern\":{\"fillmode\":\"overlay\",\"size\":10,\"solidity\":0.2},\"type\":\"scatter\"}],\"parcoords\":[{\"type\":\"parcoords\",\"line\":{\"colorbar\":{\"outlinewidth\":0,\"ticks\":\"\"}}}],\"scatterpolargl\":[{\"type\":\"scatterpolargl\",\"marker\":{\"colorbar\":{\"outlinewidth\":0,\"ticks\":\"\"}}}],\"bar\":[{\"error_x\":{\"color\":\"#2a3f5f\"},\"error_y\":{\"color\":\"#2a3f5f\"},\"marker\":{\"line\":{\"color\":\"#E5ECF6\",\"width\":0.5},\"pattern\":{\"fillmode\":\"overlay\",\"size\":10,\"solidity\":0.2}},\"type\":\"bar\"}],\"scattergeo\":[{\"type\":\"scattergeo\",\"marker\":{\"colorbar\":{\"outlinewidth\":0,\"ticks\":\"\"}}}],\"scatterpolar\":[{\"type\":\"scatterpolar\",\"marker\":{\"colorbar\":{\"outlinewidth\":0,\"ticks\":\"\"}}}],\"histogram\":[{\"marker\":{\"pattern\":{\"fillmode\":\"overlay\",\"size\":10,\"solidity\":0.2}},\"type\":\"histogram\"}],\"scattergl\":[{\"type\":\"scattergl\",\"marker\":{\"colorbar\":{\"outlinewidth\":0,\"ticks\":\"\"}}}],\"scatter3d\":[{\"type\":\"scatter3d\",\"line\":{\"colorbar\":{\"outlinewidth\":0,\"ticks\":\"\"}},\"marker\":{\"colorbar\":{\"outlinewidth\":0,\"ticks\":\"\"}}}],\"scattermapbox\":[{\"type\":\"scattermapbox\",\"marker\":{\"colorbar\":{\"outlinewidth\":0,\"ticks\":\"\"}}}],\"scatterternary\":[{\"type\":\"scatterternary\",\"marker\":{\"colorbar\":{\"outlinewidth\":0,\"ticks\":\"\"}}}],\"scattercarpet\":[{\"type\":\"scattercarpet\",\"marker\":{\"colorbar\":{\"outlinewidth\":0,\"ticks\":\"\"}}}],\"carpet\":[{\"aaxis\":{\"endlinecolor\":\"#2a3f5f\",\"gridcolor\":\"white\",\"linecolor\":\"white\",\"minorgridcolor\":\"white\",\"startlinecolor\":\"#2a3f5f\"},\"baxis\":{\"endlinecolor\":\"#2a3f5f\",\"gridcolor\":\"white\",\"linecolor\":\"white\",\"minorgridcolor\":\"white\",\"startlinecolor\":\"#2a3f5f\"},\"type\":\"carpet\"}],\"table\":[{\"cells\":{\"fill\":{\"color\":\"#EBF0F8\"},\"line\":{\"color\":\"white\"}},\"header\":{\"fill\":{\"color\":\"#C8D4E3\"},\"line\":{\"color\":\"white\"}},\"type\":\"table\"}],\"barpolar\":[{\"marker\":{\"line\":{\"color\":\"#E5ECF6\",\"width\":0.5},\"pattern\":{\"fillmode\":\"overlay\",\"size\":10,\"solidity\":0.2}},\"type\":\"barpolar\"}],\"pie\":[{\"automargin\":true,\"type\":\"pie\"}]},\"layout\":{\"autotypenumbers\":\"strict\",\"colorway\":[\"#636efa\",\"#EF553B\",\"#00cc96\",\"#ab63fa\",\"#FFA15A\",\"#19d3f3\",\"#FF6692\",\"#B6E880\",\"#FF97FF\",\"#FECB52\"],\"font\":{\"color\":\"#2a3f5f\"},\"hovermode\":\"closest\",\"hoverlabel\":{\"align\":\"left\"},\"paper_bgcolor\":\"white\",\"plot_bgcolor\":\"#E5ECF6\",\"polar\":{\"bgcolor\":\"#E5ECF6\",\"angularaxis\":{\"gridcolor\":\"white\",\"linecolor\":\"white\",\"ticks\":\"\"},\"radialaxis\":{\"gridcolor\":\"white\",\"linecolor\":\"white\",\"ticks\":\"\"}},\"ternary\":{\"bgcolor\":\"#E5ECF6\",\"aaxis\":{\"gridcolor\":\"white\",\"linecolor\":\"white\",\"ticks\":\"\"},\"baxis\":{\"gridcolor\":\"white\",\"linecolor\":\"white\",\"ticks\":\"\"},\"caxis\":{\"gridcolor\":\"white\",\"linecolor\":\"white\",\"ticks\":\"\"}},\"coloraxis\":{\"colorbar\":{\"outlinewidth\":0,\"ticks\":\"\"}},\"colorscale\":{\"sequential\":[[0.0,\"#0d0887\"],[0.1111111111111111,\"#46039f\"],[0.2222222222222222,\"#7201a8\"],[0.3333333333333333,\"#9c179e\"],[0.4444444444444444,\"#bd3786\"],[0.5555555555555556,\"#d8576b\"],[0.6666666666666666,\"#ed7953\"],[0.7777777777777778,\"#fb9f3a\"],[0.8888888888888888,\"#fdca26\"],[1.0,\"#f0f921\"]],\"sequentialminus\":[[0.0,\"#0d0887\"],[0.1111111111111111,\"#46039f\"],[0.2222222222222222,\"#7201a8\"],[0.3333333333333333,\"#9c179e\"],[0.4444444444444444,\"#bd3786\"],[0.5555555555555556,\"#d8576b\"],[0.6666666666666666,\"#ed7953\"],[0.7777777777777778,\"#fb9f3a\"],[0.8888888888888888,\"#fdca26\"],[1.0,\"#f0f921\"]],\"diverging\":[[0,\"#8e0152\"],[0.1,\"#c51b7d\"],[0.2,\"#de77ae\"],[0.3,\"#f1b6da\"],[0.4,\"#fde0ef\"],[0.5,\"#f7f7f7\"],[0.6,\"#e6f5d0\"],[0.7,\"#b8e186\"],[0.8,\"#7fbc41\"],[0.9,\"#4d9221\"],[1,\"#276419\"]]},\"xaxis\":{\"gridcolor\":\"white\",\"linecolor\":\"white\",\"ticks\":\"\",\"title\":{\"standoff\":15},\"zerolinecolor\":\"white\",\"automargin\":true,\"zerolinewidth\":2},\"yaxis\":{\"gridcolor\":\"white\",\"linecolor\":\"white\",\"ticks\":\"\",\"title\":{\"standoff\":15},\"zerolinecolor\":\"white\",\"automargin\":true,\"zerolinewidth\":2},\"scene\":{\"xaxis\":{\"backgroundcolor\":\"#E5ECF6\",\"gridcolor\":\"white\",\"linecolor\":\"white\",\"showbackground\":true,\"ticks\":\"\",\"zerolinecolor\":\"white\",\"gridwidth\":2},\"yaxis\":{\"backgroundcolor\":\"#E5ECF6\",\"gridcolor\":\"white\",\"linecolor\":\"white\",\"showbackground\":true,\"ticks\":\"\",\"zerolinecolor\":\"white\",\"gridwidth\":2},\"zaxis\":{\"backgroundcolor\":\"#E5ECF6\",\"gridcolor\":\"white\",\"linecolor\":\"white\",\"showbackground\":true,\"ticks\":\"\",\"zerolinecolor\":\"white\",\"gridwidth\":2}},\"shapedefaults\":{\"line\":{\"color\":\"#2a3f5f\"}},\"annotationdefaults\":{\"arrowcolor\":\"#2a3f5f\",\"arrowhead\":0,\"arrowwidth\":1},\"geo\":{\"bgcolor\":\"white\",\"landcolor\":\"#E5ECF6\",\"subunitcolor\":\"white\",\"showland\":true,\"showlakes\":true,\"lakecolor\":\"white\"},\"title\":{\"x\":0.05},\"mapbox\":{\"style\":\"light\"}}}},                        {\"responsive\": true}                    ).then(function(){\n",
       "                            \n",
       "var gd = document.getElementById('f3401dc8-2a29-48a3-ac52-d49d5d09f5a2');\n",
       "var x = new MutationObserver(function (mutations, observer) {{\n",
       "        var display = window.getComputedStyle(gd).display;\n",
       "        if (!display || display === 'none') {{\n",
       "            console.log([gd, 'removed!']);\n",
       "            Plotly.purge(gd);\n",
       "            observer.disconnect();\n",
       "        }}\n",
       "}});\n",
       "\n",
       "// Listen for the removal of the full notebook cells\n",
       "var notebookContainer = gd.closest('#notebook-container');\n",
       "if (notebookContainer) {{\n",
       "    x.observe(notebookContainer, {childList: true});\n",
       "}}\n",
       "\n",
       "// Listen for the clearing of the current output cell\n",
       "var outputEl = gd.closest('.output');\n",
       "if (outputEl) {{\n",
       "    x.observe(outputEl, {childList: true});\n",
       "}}\n",
       "\n",
       "                        })                };                });            </script>        </div>"
      ]
     },
     "metadata": {},
     "output_type": "display_data"
    }
   ],
   "source": [
    "#plot param importance\n",
    "optuna.visualization.plot_param_importances(study)"
   ]
  },
  {
   "cell_type": "code",
   "execution_count": null,
   "id": "a75e38e9",
   "metadata": {},
   "outputs": [],
   "source": []
  }
 ],
 "metadata": {
  "kernelspec": {
   "display_name": "Python 3",
   "language": "python",
   "name": "python3"
  },
  "language_info": {
   "codemirror_mode": {
    "name": "ipython",
    "version": 3
   },
   "file_extension": ".py",
   "mimetype": "text/x-python",
   "name": "python",
   "nbconvert_exporter": "python",
   "pygments_lexer": "ipython3",
   "version": "3.8.10"
  }
 },
 "nbformat": 4,
 "nbformat_minor": 5
}
